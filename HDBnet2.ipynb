{
  "nbformat": 4,
  "nbformat_minor": 0,
  "metadata": {
    "colab": {
      "name": "HDBnet2.ipynb",
      "provenance": [],
      "collapsed_sections": [
        "aY-iWq-tff23",
        "hBzhYaHbsd3D",
        "67I8vV1dScu3"
      ],
      "mount_file_id": "1e556s5aJyRBE5O61Py8G-sbtRqqYuYk5",
      "authorship_tag": "ABX9TyMXZcdn7frkkPa7wPpFakFU",
      "include_colab_link": true
    },
    "kernelspec": {
      "display_name": "Python 3",
      "name": "python3"
    }
  },
  "cells": [
    {
      "cell_type": "markdown",
      "metadata": {
        "id": "view-in-github",
        "colab_type": "text"
      },
      "source": [
        "<a href=\"https://colab.research.google.com/github/leejielong/hdbnet/blob/master/HDBnet2.ipynb\" target=\"_parent\"><img src=\"https://colab.research.google.com/assets/colab-badge.svg\" alt=\"Open In Colab\"/></a>"
      ]
    },
    {
      "cell_type": "markdown",
      "metadata": {
        "id": "fNn_sOoHe3FU"
      },
      "source": [
        "#HDBnet - EDA\n",
        "\n",
        "In this notebook we will explore the HDB resale dataset, perform data cleaning and feature engineering in preparation for regressive modelling. Our objective is to achieve an MAE of less than 15k SGD so that we can provide a useful valuation for prospective buyers or sellers to estimate the valuation of their unit."
      ]
    },
    {
      "cell_type": "markdown",
      "metadata": {
        "id": "rOqu-aB7bzBr"
      },
      "source": [
        "##Dependencies"
      ]
    },
    {
      "cell_type": "code",
      "metadata": {
        "colab": {
          "base_uri": "https://localhost:8080/"
        },
        "id": "Xyh6RyfTLQQj",
        "outputId": "e650648b-1d93-432b-ec7e-6bbe869885f5"
      },
      "source": [
        "!pip install --quiet aiohttp nest_asyncio neptune-client optuna neptune-optuna\n",
        "\n",
        "from google.colab import drive\n",
        "import pandas as pd\n",
        "import time\n",
        "from datetime import datetime\n",
        "import os\n",
        "import io\n",
        "import random\n",
        "import pickle\n",
        "from zipfile import ZipFile \n",
        "\n",
        "import urllib\n",
        "import aiohttp\n",
        "import nest_asyncio\n",
        "import asyncio\n",
        "import json\n",
        "from geopy import distance\n",
        "\n",
        "import seaborn as sns\n",
        "import numpy as np\n",
        "import matplotlib.pyplot as plt\n",
        "from matplotlib.ticker import MaxNLocator\n",
        "import matplotlib.gridspec as gridspec\n",
        "\n",
        "import tensorflow as tf\n",
        "from tensorflow.keras.models import Sequential, Model\n",
        "from tensorflow.keras.callbacks import Callback\n",
        "from tensorflow.python.keras.layers import deserialize, serialize\n",
        "from tensorflow.python.keras.saving import saving_utils\n",
        "\n",
        "from sklearn.preprocessing import StandardScaler, MinMaxScaler, LabelEncoder\n",
        "from sklearn.model_selection import RepeatedKFold, train_test_split\n",
        "from sklearn.metrics import mean_absolute_error\n",
        "\n",
        "from sklearn.model_selection import cross_val_score, KFold, cross_validate\n",
        "from sklearn.preprocessing import RobustScaler\n",
        "from sklearn.linear_model import ElasticNetCV, LassoCV, RidgeCV\n",
        "from sklearn.experimental import enable_hist_gradient_boosting\n",
        "from sklearn.ensemble import GradientBoostingRegressor, HistGradientBoostingRegressor\n",
        "from sklearn.svm import SVR\n",
        "from sklearn.pipeline import make_pipeline\n",
        "from sklearn.metrics import mean_squared_error\n",
        "from xgboost import XGBRegressor\n",
        "from lightgbm import LGBMRegressor\n",
        "from mlxtend.regressor import StackingCVRegressor #\n",
        "\n",
        "from scipy import stats\n",
        "from scipy.stats import skew, boxcox_normmax, norm\n",
        "from scipy.special import boxcox1p\n",
        "\n",
        "import neptune.new as neptune\n",
        "import optuna\n",
        "import neptune.new.integrations.optuna as optuna_utils\n",
        "\n",
        "#rebuild all pickle files\n",
        "data_refresh = False"
      ],
      "execution_count": 1,
      "outputs": [
        {
          "output_type": "stream",
          "text": [
            "\u001b[K     |████████████████████████████████| 1.3MB 34.7MB/s \n",
            "\u001b[K     |████████████████████████████████| 245kB 39.3MB/s \n",
            "\u001b[K     |████████████████████████████████| 307kB 37.1MB/s \n",
            "\u001b[K     |████████████████████████████████| 296kB 46.7MB/s \n",
            "\u001b[K     |████████████████████████████████| 143kB 58.7MB/s \n",
            "\u001b[K     |████████████████████████████████| 829kB 42.9MB/s \n",
            "\u001b[K     |████████████████████████████████| 71kB 8.0MB/s \n",
            "\u001b[K     |████████████████████████████████| 174kB 46.0MB/s \n",
            "\u001b[K     |████████████████████████████████| 174kB 30.9MB/s \n",
            "\u001b[K     |████████████████████████████████| 81kB 8.8MB/s \n",
            "\u001b[K     |████████████████████████████████| 71kB 7.8MB/s \n",
            "\u001b[K     |████████████████████████████████| 133kB 51.1MB/s \n",
            "\u001b[K     |████████████████████████████████| 71kB 9.3MB/s \n",
            "\u001b[K     |████████████████████████████████| 81kB 9.3MB/s \n",
            "\u001b[K     |████████████████████████████████| 51kB 6.5MB/s \n",
            "\u001b[K     |████████████████████████████████| 112kB 46.9MB/s \n",
            "\u001b[K     |████████████████████████████████| 143kB 49.2MB/s \n",
            "\u001b[?25h  Building wheel for neptune-client (setup.py) ... \u001b[?25l\u001b[?25hdone\n",
            "  Building wheel for neptune-optuna (setup.py) ... \u001b[?25l\u001b[?25hdone\n",
            "  Building wheel for future (setup.py) ... \u001b[?25l\u001b[?25hdone\n",
            "  Building wheel for pyperclip (setup.py) ... \u001b[?25l\u001b[?25hdone\n",
            "  Building wheel for strict-rfc3339 (setup.py) ... \u001b[?25l\u001b[?25hdone\n"
          ],
          "name": "stdout"
        }
      ]
    },
    {
      "cell_type": "code",
      "metadata": {
        "colab": {
          "base_uri": "https://localhost:8080/"
        },
        "id": "pgPwUH-2X8mF",
        "outputId": "e00aba26-e085-4dae-da25-6531645d0cb4"
      },
      "source": [
        "try:\n",
        "    drive.mount('/content/drive')\n",
        "except:\n",
        "    pass"
      ],
      "execution_count": 2,
      "outputs": [
        {
          "output_type": "stream",
          "text": [
            "Drive already mounted at /content/drive; to attempt to forcibly remount, call drive.mount(\"/content/drive\", force_remount=True).\n"
          ],
          "name": "stdout"
        }
      ]
    },
    {
      "cell_type": "code",
      "metadata": {
        "id": "6xciUsWOT2L-"
      },
      "source": [
        "class MyTimer():\n",
        "    # usage:\n",
        "    #with MyTimer():                            \n",
        "    #    rf.fit(X_train, y_train)\n",
        "    \n",
        "    def __init__(self):\n",
        "        self.start = time.time()\n",
        "    def __enter__(self):\n",
        "        return self\n",
        "    def __exit__(self, exc_type, exc_val, exc_tb):\n",
        "        end = time.time()\n",
        "        runtime = end - self.start\n",
        "        msg = 'The function took {time} seconds to complete'\n",
        "        print(msg.format(time=runtime))"
      ],
      "execution_count": 3,
      "outputs": []
    },
    {
      "cell_type": "markdown",
      "metadata": {
        "id": "aY-iWq-tff23"
      },
      "source": [
        "##Data Ingestion"
      ]
    },
    {
      "cell_type": "markdown",
      "metadata": {
        "id": "R5-qPZ12DzWy"
      },
      "source": [
        "The HDB resale price transaction records provides data on all resale flat transactions from 1990 till present. The transaction data from data.gov.sg comes in a zip file containing five csv files. The 30-year records are split across the five files by 1990-2000, 2000-2012, 2012-2014, 2015-2016 and 2017-2021. To maintain relevance of the dataset to recent price trends, we will only utilise 2017-present data. \n",
        "\n",
        "As our objective is to predict the latest valuation price for any given HDB unit, it is useful to only feed the model with more recent data. Intuitively, there should be very few if not no blocks encountering zero transactions over the past five years. Even if there are few transaction data for some blocks, these data points are much more relevant to the valuation compared to older transaction prices, since older pricing take into account the economic condition, resale market sentiment and housing policy effects of a different time. Having a large proportion of older resale data may skew the model to perform better at predicting past prices than recent prices."
      ]
    },
    {
      "cell_type": "code",
      "metadata": {
        "id": "DxbXd_-0QOCC"
      },
      "source": [
        "import zipfile\n",
        "drive_path = 'drive/MyDrive/Projects/HDBnet2/'\n",
        "filename = \"download\"\n",
        "if (not os.path.isfile(drive_path+filename) or data_refresh):\n",
        "    os.system('wget https://data.gov.sg/dataset/7a339d20-3c57-4b11-a695-9348adfd7614/download -P '+drive_path)\n",
        "    with zipfile.ZipFile(drive_path+filename, 'r') as zipped: \n",
        "        zipped.printdir() \n",
        "        zipped.extractall(drive_path) "
      ],
      "execution_count": 4,
      "outputs": []
    },
    {
      "cell_type": "code",
      "metadata": {
        "id": "ZB2XdYuiCcKl"
      },
      "source": [
        "df_hdb = pd.read_csv(drive_path+'resale-flat-prices-based-on-registration-date-from-jan-2017-onwards.csv')"
      ],
      "execution_count": 5,
      "outputs": []
    },
    {
      "cell_type": "code",
      "metadata": {
        "colab": {
          "base_uri": "https://localhost:8080/",
          "height": 394
        },
        "id": "-VWXDCCZqEOV",
        "outputId": "56f8a480-878b-4825-c62f-a5a55710ce26"
      },
      "source": [
        "display(df_hdb.head())"
      ],
      "execution_count": 6,
      "outputs": [
        {
          "output_type": "display_data",
          "data": {
            "text/html": [
              "<div>\n",
              "<style scoped>\n",
              "    .dataframe tbody tr th:only-of-type {\n",
              "        vertical-align: middle;\n",
              "    }\n",
              "\n",
              "    .dataframe tbody tr th {\n",
              "        vertical-align: top;\n",
              "    }\n",
              "\n",
              "    .dataframe thead th {\n",
              "        text-align: right;\n",
              "    }\n",
              "</style>\n",
              "<table border=\"1\" class=\"dataframe\">\n",
              "  <thead>\n",
              "    <tr style=\"text-align: right;\">\n",
              "      <th></th>\n",
              "      <th>month</th>\n",
              "      <th>town</th>\n",
              "      <th>flat_type</th>\n",
              "      <th>block</th>\n",
              "      <th>street_name</th>\n",
              "      <th>storey_range</th>\n",
              "      <th>floor_area_sqm</th>\n",
              "      <th>flat_model</th>\n",
              "      <th>lease_commence_date</th>\n",
              "      <th>remaining_lease</th>\n",
              "      <th>resale_price</th>\n",
              "    </tr>\n",
              "  </thead>\n",
              "  <tbody>\n",
              "    <tr>\n",
              "      <th>0</th>\n",
              "      <td>2017-01</td>\n",
              "      <td>ANG MO KIO</td>\n",
              "      <td>2 ROOM</td>\n",
              "      <td>406</td>\n",
              "      <td>ANG MO KIO AVE 10</td>\n",
              "      <td>10 TO 12</td>\n",
              "      <td>44.0</td>\n",
              "      <td>Improved</td>\n",
              "      <td>1979</td>\n",
              "      <td>61 years 04 months</td>\n",
              "      <td>232000.0</td>\n",
              "    </tr>\n",
              "    <tr>\n",
              "      <th>1</th>\n",
              "      <td>2017-01</td>\n",
              "      <td>ANG MO KIO</td>\n",
              "      <td>3 ROOM</td>\n",
              "      <td>108</td>\n",
              "      <td>ANG MO KIO AVE 4</td>\n",
              "      <td>01 TO 03</td>\n",
              "      <td>67.0</td>\n",
              "      <td>New Generation</td>\n",
              "      <td>1978</td>\n",
              "      <td>60 years 07 months</td>\n",
              "      <td>250000.0</td>\n",
              "    </tr>\n",
              "    <tr>\n",
              "      <th>2</th>\n",
              "      <td>2017-01</td>\n",
              "      <td>ANG MO KIO</td>\n",
              "      <td>3 ROOM</td>\n",
              "      <td>602</td>\n",
              "      <td>ANG MO KIO AVE 5</td>\n",
              "      <td>01 TO 03</td>\n",
              "      <td>67.0</td>\n",
              "      <td>New Generation</td>\n",
              "      <td>1980</td>\n",
              "      <td>62 years 05 months</td>\n",
              "      <td>262000.0</td>\n",
              "    </tr>\n",
              "    <tr>\n",
              "      <th>3</th>\n",
              "      <td>2017-01</td>\n",
              "      <td>ANG MO KIO</td>\n",
              "      <td>3 ROOM</td>\n",
              "      <td>465</td>\n",
              "      <td>ANG MO KIO AVE 10</td>\n",
              "      <td>04 TO 06</td>\n",
              "      <td>68.0</td>\n",
              "      <td>New Generation</td>\n",
              "      <td>1980</td>\n",
              "      <td>62 years 01 month</td>\n",
              "      <td>265000.0</td>\n",
              "    </tr>\n",
              "    <tr>\n",
              "      <th>4</th>\n",
              "      <td>2017-01</td>\n",
              "      <td>ANG MO KIO</td>\n",
              "      <td>3 ROOM</td>\n",
              "      <td>601</td>\n",
              "      <td>ANG MO KIO AVE 5</td>\n",
              "      <td>01 TO 03</td>\n",
              "      <td>67.0</td>\n",
              "      <td>New Generation</td>\n",
              "      <td>1980</td>\n",
              "      <td>62 years 05 months</td>\n",
              "      <td>265000.0</td>\n",
              "    </tr>\n",
              "  </tbody>\n",
              "</table>\n",
              "</div>"
            ],
            "text/plain": [
              "     month        town  ...     remaining_lease resale_price\n",
              "0  2017-01  ANG MO KIO  ...  61 years 04 months     232000.0\n",
              "1  2017-01  ANG MO KIO  ...  60 years 07 months     250000.0\n",
              "2  2017-01  ANG MO KIO  ...  62 years 05 months     262000.0\n",
              "3  2017-01  ANG MO KIO  ...   62 years 01 month     265000.0\n",
              "4  2017-01  ANG MO KIO  ...  62 years 05 months     265000.0\n",
              "\n",
              "[5 rows x 11 columns]"
            ]
          },
          "metadata": {
            "tags": []
          }
        }
      ]
    },
    {
      "cell_type": "markdown",
      "metadata": {
        "id": "hBzhYaHbsd3D"
      },
      "source": [
        "## Data Cleaning"
      ]
    },
    {
      "cell_type": "markdown",
      "metadata": {
        "id": "zGOqYc-KD3VP"
      },
      "source": [
        "We can observe some pecularities in the datasets.\n",
        "* `remaining_lease`: The column lists the years and months remaining at the point of sale. We can convert it to a numerical column.\n",
        "* `storey_range`: Some units are assigned '01 TO 05', while others are '01 TO 03'. The unit levels are not always categorized in groups of 3 levels. We will need to record the min and max levels, and assign each unit a specific level based on a random sample."
      ]
    },
    {
      "cell_type": "code",
      "metadata": {
        "id": "MTAlp068HyZH"
      },
      "source": [
        "def extract_year_month(df):\n",
        "    df['year'] = df['month'].str[0:4].astype(int)\n",
        "    df['month'] = df['month'].str[-2:].astype(int)\n",
        "    return(df)\n",
        "\n",
        "# Prepare year and month for dataset\n",
        "df_hdb = extract_year_month(df_hdb)\n",
        "\n",
        "# Extract remaining lease year from dataset\n",
        "df_hdb['remaining_lease'] = df_hdb['remaining_lease'].str[:2].astype('int')\n",
        "\n",
        "# Random uniform sample from storey range\n",
        "df_hdb['storey'] = df_hdb['storey_range'].apply(lambda x: random.choice(range(int(x[0:2]), int(x[-2:]))))"
      ],
      "execution_count": 7,
      "outputs": []
    },
    {
      "cell_type": "code",
      "metadata": {
        "colab": {
          "base_uri": "https://localhost:8080/",
          "height": 394
        },
        "id": "99XCeXO_VMx5",
        "outputId": "09fb823d-1746-4ea0-879d-afa10d2f5af5"
      },
      "source": [
        "display(df_hdb.head())"
      ],
      "execution_count": 8,
      "outputs": [
        {
          "output_type": "display_data",
          "data": {
            "text/html": [
              "<div>\n",
              "<style scoped>\n",
              "    .dataframe tbody tr th:only-of-type {\n",
              "        vertical-align: middle;\n",
              "    }\n",
              "\n",
              "    .dataframe tbody tr th {\n",
              "        vertical-align: top;\n",
              "    }\n",
              "\n",
              "    .dataframe thead th {\n",
              "        text-align: right;\n",
              "    }\n",
              "</style>\n",
              "<table border=\"1\" class=\"dataframe\">\n",
              "  <thead>\n",
              "    <tr style=\"text-align: right;\">\n",
              "      <th></th>\n",
              "      <th>month</th>\n",
              "      <th>town</th>\n",
              "      <th>flat_type</th>\n",
              "      <th>block</th>\n",
              "      <th>street_name</th>\n",
              "      <th>storey_range</th>\n",
              "      <th>floor_area_sqm</th>\n",
              "      <th>flat_model</th>\n",
              "      <th>lease_commence_date</th>\n",
              "      <th>remaining_lease</th>\n",
              "      <th>resale_price</th>\n",
              "      <th>year</th>\n",
              "      <th>storey</th>\n",
              "    </tr>\n",
              "  </thead>\n",
              "  <tbody>\n",
              "    <tr>\n",
              "      <th>0</th>\n",
              "      <td>1</td>\n",
              "      <td>ANG MO KIO</td>\n",
              "      <td>2 ROOM</td>\n",
              "      <td>406</td>\n",
              "      <td>ANG MO KIO AVE 10</td>\n",
              "      <td>10 TO 12</td>\n",
              "      <td>44.0</td>\n",
              "      <td>Improved</td>\n",
              "      <td>1979</td>\n",
              "      <td>61</td>\n",
              "      <td>232000.0</td>\n",
              "      <td>2017</td>\n",
              "      <td>10</td>\n",
              "    </tr>\n",
              "    <tr>\n",
              "      <th>1</th>\n",
              "      <td>1</td>\n",
              "      <td>ANG MO KIO</td>\n",
              "      <td>3 ROOM</td>\n",
              "      <td>108</td>\n",
              "      <td>ANG MO KIO AVE 4</td>\n",
              "      <td>01 TO 03</td>\n",
              "      <td>67.0</td>\n",
              "      <td>New Generation</td>\n",
              "      <td>1978</td>\n",
              "      <td>60</td>\n",
              "      <td>250000.0</td>\n",
              "      <td>2017</td>\n",
              "      <td>2</td>\n",
              "    </tr>\n",
              "    <tr>\n",
              "      <th>2</th>\n",
              "      <td>1</td>\n",
              "      <td>ANG MO KIO</td>\n",
              "      <td>3 ROOM</td>\n",
              "      <td>602</td>\n",
              "      <td>ANG MO KIO AVE 5</td>\n",
              "      <td>01 TO 03</td>\n",
              "      <td>67.0</td>\n",
              "      <td>New Generation</td>\n",
              "      <td>1980</td>\n",
              "      <td>62</td>\n",
              "      <td>262000.0</td>\n",
              "      <td>2017</td>\n",
              "      <td>2</td>\n",
              "    </tr>\n",
              "    <tr>\n",
              "      <th>3</th>\n",
              "      <td>1</td>\n",
              "      <td>ANG MO KIO</td>\n",
              "      <td>3 ROOM</td>\n",
              "      <td>465</td>\n",
              "      <td>ANG MO KIO AVE 10</td>\n",
              "      <td>04 TO 06</td>\n",
              "      <td>68.0</td>\n",
              "      <td>New Generation</td>\n",
              "      <td>1980</td>\n",
              "      <td>62</td>\n",
              "      <td>265000.0</td>\n",
              "      <td>2017</td>\n",
              "      <td>4</td>\n",
              "    </tr>\n",
              "    <tr>\n",
              "      <th>4</th>\n",
              "      <td>1</td>\n",
              "      <td>ANG MO KIO</td>\n",
              "      <td>3 ROOM</td>\n",
              "      <td>601</td>\n",
              "      <td>ANG MO KIO AVE 5</td>\n",
              "      <td>01 TO 03</td>\n",
              "      <td>67.0</td>\n",
              "      <td>New Generation</td>\n",
              "      <td>1980</td>\n",
              "      <td>62</td>\n",
              "      <td>265000.0</td>\n",
              "      <td>2017</td>\n",
              "      <td>1</td>\n",
              "    </tr>\n",
              "  </tbody>\n",
              "</table>\n",
              "</div>"
            ],
            "text/plain": [
              "   month        town flat_type  ... resale_price  year storey\n",
              "0      1  ANG MO KIO    2 ROOM  ...     232000.0  2017     10\n",
              "1      1  ANG MO KIO    3 ROOM  ...     250000.0  2017      2\n",
              "2      1  ANG MO KIO    3 ROOM  ...     262000.0  2017      2\n",
              "3      1  ANG MO KIO    3 ROOM  ...     265000.0  2017      4\n",
              "4      1  ANG MO KIO    3 ROOM  ...     265000.0  2017      1\n",
              "\n",
              "[5 rows x 13 columns]"
            ]
          },
          "metadata": {
            "tags": []
          }
        }
      ]
    },
    {
      "cell_type": "markdown",
      "metadata": {
        "id": "qKa1eypgW0TP"
      },
      "source": [
        "###**Missing Data**\n",
        "\n",
        "We need to identify missing values, and impute or remove these examples before proceeding. \n",
        "\n",
        "Observations: There are no missing fields in this dataset."
      ]
    },
    {
      "cell_type": "code",
      "metadata": {
        "colab": {
          "base_uri": "https://localhost:8080/",
          "height": 297
        },
        "id": "me_l_tACylQh",
        "outputId": "aa01cdd6-913c-4551-e697-dd51ba56d58c"
      },
      "source": [
        "df_eda = df_hdb.copy()\n",
        "df_eda.describe()"
      ],
      "execution_count": 9,
      "outputs": [
        {
          "output_type": "execute_result",
          "data": {
            "text/html": [
              "<div>\n",
              "<style scoped>\n",
              "    .dataframe tbody tr th:only-of-type {\n",
              "        vertical-align: middle;\n",
              "    }\n",
              "\n",
              "    .dataframe tbody tr th {\n",
              "        vertical-align: top;\n",
              "    }\n",
              "\n",
              "    .dataframe thead th {\n",
              "        text-align: right;\n",
              "    }\n",
              "</style>\n",
              "<table border=\"1\" class=\"dataframe\">\n",
              "  <thead>\n",
              "    <tr style=\"text-align: right;\">\n",
              "      <th></th>\n",
              "      <th>month</th>\n",
              "      <th>floor_area_sqm</th>\n",
              "      <th>lease_commence_date</th>\n",
              "      <th>remaining_lease</th>\n",
              "      <th>resale_price</th>\n",
              "      <th>year</th>\n",
              "      <th>storey</th>\n",
              "    </tr>\n",
              "  </thead>\n",
              "  <tbody>\n",
              "    <tr>\n",
              "      <th>count</th>\n",
              "      <td>98799.000000</td>\n",
              "      <td>98799.000000</td>\n",
              "      <td>98799.000000</td>\n",
              "      <td>98799.000000</td>\n",
              "      <td>9.879900e+04</td>\n",
              "      <td>98799.000000</td>\n",
              "      <td>98799.000000</td>\n",
              "    </tr>\n",
              "    <tr>\n",
              "      <th>mean</th>\n",
              "      <td>6.434458</td>\n",
              "      <td>97.777397</td>\n",
              "      <td>1994.658478</td>\n",
              "      <td>74.388678</td>\n",
              "      <td>4.485947e+05</td>\n",
              "      <td>2018.829644</td>\n",
              "      <td>8.165204</td>\n",
              "    </tr>\n",
              "    <tr>\n",
              "      <th>std</th>\n",
              "      <td>3.411268</td>\n",
              "      <td>24.209045</td>\n",
              "      <td>13.184882</td>\n",
              "      <td>13.128133</td>\n",
              "      <td>1.559084e+05</td>\n",
              "      <td>1.307450</td>\n",
              "      <td>5.866986</td>\n",
              "    </tr>\n",
              "    <tr>\n",
              "      <th>min</th>\n",
              "      <td>1.000000</td>\n",
              "      <td>31.000000</td>\n",
              "      <td>1966.000000</td>\n",
              "      <td>44.000000</td>\n",
              "      <td>1.400000e+05</td>\n",
              "      <td>2017.000000</td>\n",
              "      <td>1.000000</td>\n",
              "    </tr>\n",
              "    <tr>\n",
              "      <th>25%</th>\n",
              "      <td>3.000000</td>\n",
              "      <td>82.000000</td>\n",
              "      <td>1984.000000</td>\n",
              "      <td>64.000000</td>\n",
              "      <td>3.358880e+05</td>\n",
              "      <td>2018.000000</td>\n",
              "      <td>4.000000</td>\n",
              "    </tr>\n",
              "    <tr>\n",
              "      <th>50%</th>\n",
              "      <td>6.000000</td>\n",
              "      <td>95.000000</td>\n",
              "      <td>1995.000000</td>\n",
              "      <td>74.000000</td>\n",
              "      <td>4.180000e+05</td>\n",
              "      <td>2019.000000</td>\n",
              "      <td>7.000000</td>\n",
              "    </tr>\n",
              "    <tr>\n",
              "      <th>75%</th>\n",
              "      <td>9.000000</td>\n",
              "      <td>113.000000</td>\n",
              "      <td>2004.000000</td>\n",
              "      <td>84.000000</td>\n",
              "      <td>5.260000e+05</td>\n",
              "      <td>2020.000000</td>\n",
              "      <td>11.000000</td>\n",
              "    </tr>\n",
              "    <tr>\n",
              "      <th>max</th>\n",
              "      <td>12.000000</td>\n",
              "      <td>249.000000</td>\n",
              "      <td>2019.000000</td>\n",
              "      <td>97.000000</td>\n",
              "      <td>1.258000e+06</td>\n",
              "      <td>2021.000000</td>\n",
              "      <td>50.000000</td>\n",
              "    </tr>\n",
              "  </tbody>\n",
              "</table>\n",
              "</div>"
            ],
            "text/plain": [
              "              month  floor_area_sqm  ...          year        storey\n",
              "count  98799.000000    98799.000000  ...  98799.000000  98799.000000\n",
              "mean       6.434458       97.777397  ...   2018.829644      8.165204\n",
              "std        3.411268       24.209045  ...      1.307450      5.866986\n",
              "min        1.000000       31.000000  ...   2017.000000      1.000000\n",
              "25%        3.000000       82.000000  ...   2018.000000      4.000000\n",
              "50%        6.000000       95.000000  ...   2019.000000      7.000000\n",
              "75%        9.000000      113.000000  ...   2020.000000     11.000000\n",
              "max       12.000000      249.000000  ...   2021.000000     50.000000\n",
              "\n",
              "[8 rows x 7 columns]"
            ]
          },
          "metadata": {
            "tags": []
          },
          "execution_count": 9
        }
      ]
    },
    {
      "cell_type": "markdown",
      "metadata": {
        "id": "67I8vV1dScu3"
      },
      "source": [
        "##Exploratory Data Analysis\n"
      ]
    },
    {
      "cell_type": "markdown",
      "metadata": {
        "id": "chFWBdLlS0XY"
      },
      "source": [
        "###Correlation Analysis\n",
        "\n",
        "In this chapter, we explore the relationships of the features with respect to the target variable `resale_price`.\n"
      ]
    },
    {
      "cell_type": "code",
      "metadata": {
        "colab": {
          "base_uri": "https://localhost:8080/",
          "height": 658
        },
        "id": "mn2QEVugWz9U",
        "outputId": "365b9d67-5f8a-43f6-ffb7-df814edee35e"
      },
      "source": [
        "#Correlation map to see how features are correlated with each other and with SalePrice\n",
        "corrmat = df_eda.corr(method='kendall')\n",
        "plt.subplots(figsize=(12,9))\n",
        "sns.heatmap(corrmat, vmax=0.9, square=True)"
      ],
      "execution_count": 10,
      "outputs": [
        {
          "output_type": "execute_result",
          "data": {
            "text/plain": [
              "<matplotlib.axes._subplots.AxesSubplot at 0x7f16e48c5dd0>"
            ]
          },
          "metadata": {
            "tags": []
          },
          "execution_count": 10
        },
        {
          "output_type": "display_data",
          "data": {
            "image/png": "[encoded data removed]",
            "text/plain": [
              "<Figure size 864x648 with 2 Axes>"
            ]
          },
          "metadata": {
            "tags": [],
            "needs_background": "light"
          }
        }
      ]
    },
    {
      "cell_type": "markdown",
      "metadata": {
        "id": "23YlKCgO1qBS"
      },
      "source": [
        "####**Numerical Features**\n",
        "\n",
        "We start with basic correlation table first to look out for linear relations between different features.\n",
        "\n",
        "<br />\n",
        "\n",
        "**Observations:**\n",
        "\n",
        "*   Remaining_lease is perfectly correlated with lease_commence_date. It makes sense, since remaining_lease = year_of_sale - lease_commence_date + 99.\n",
        "*   There is strong positive correlation between resale price and floor area. This is intuitive- larger areas typically command higher prices."
      ]
    },
    {
      "cell_type": "code",
      "metadata": {
        "colab": {
          "base_uri": "https://localhost:8080/",
          "height": 450
        },
        "id": "0IG8ZaM8ScIb",
        "outputId": "80609629-cdb4-4cdb-c4ed-a7f0deed9d94"
      },
      "source": [
        "# Display numerical-to-numerical correlations (pearson correlation) between features on heatmap\n",
        "sns.set(font_scale=1.1)\n",
        "correlation_data = df_eda.corr()\n",
        "mask = np.triu(correlation_data.corr())\n",
        "plt.figure(figsize=(5, 5))\n",
        "sns.heatmap(correlation_data,\n",
        "            annot=True,\n",
        "            fmt='.1f',\n",
        "            cmap='coolwarm',\n",
        "            square=True,\n",
        "            linewidths=1,\n",
        "            cbar=False)\n",
        "\n",
        "plt.show()"
      ],
      "execution_count": 11,
      "outputs": [
        {
          "output_type": "display_data",
          "data": {
            "image/png": "[encoded data removed]",
            "text/plain": [
              "<Figure size 360x360 with 1 Axes>"
            ]
          },
          "metadata": {
            "tags": []
          }
        }
      ]
    },
    {
      "cell_type": "markdown",
      "metadata": {
        "id": "L_S2KX_OiZ-T"
      },
      "source": [
        "**Observations:**\n",
        "\n",
        "\n",
        "*   Month: Month as a feature has close to no effect on the resale price.\n",
        "*   Year: The year of sale has a slight upward trend, with resale prices increasing slightly over the years\n",
        "* Remaining_lease: Units with higher remaining lease tend to sell for higher. However, there is a drop off for units with less than 88 years lease. Following which, remaining_lease has little effect on resale price only until it dips below the 60 year mark. From there onwards, there is a steep decrease in resale value as the flat ages.\n",
        "\n",
        "\n",
        "\n"
      ]
    },
    {
      "cell_type": "code",
      "metadata": {
        "id": "NpdCFekPhQaM"
      },
      "source": [
        "# # Plotting numerical features with polynomial order to detect outliers by eye.\n",
        "# def srt_reg(y, df, exclude_columns=[]):\n",
        "\n",
        "#     num_col_names = df.drop(columns=exclude_columns).select_dtypes(include=['number']).columns\n",
        "#     num_num = len(list(num_col_names))\n",
        "\n",
        "#     print(f'plotting columns: {num_col_names}')\n",
        "\n",
        "#     fig, axes = plt.subplots(num_num, 1, figsize=(20, 40))\n",
        "#     axes = axes.flatten()\n",
        "\n",
        "#     for i, j in zip(num_col_names, axes):\n",
        "#         print(f'plotting column: {i}')\n",
        "#         sns.regplot(x=i,\n",
        "#                     y=y,\n",
        "#                     data=df,\n",
        "#                     ax=j,\n",
        "#                     order=3,\n",
        "#                     ci=None,\n",
        "#                     color='#e74c3c',\n",
        "#                     line_kws={'color': 'black'},\n",
        "#                     scatter_kws={'alpha':0.4})\n",
        "#         j.tick_params(labelrotation=45)\n",
        "#         j.yaxis.set_major_locator(MaxNLocator(nbins=10))\n",
        "\n",
        "#         plt.tight_layout()\n",
        "\n",
        "# srt_reg('resale_price', df_eda)"
      ],
      "execution_count": 12,
      "outputs": []
    },
    {
      "cell_type": "markdown",
      "metadata": {
        "id": "OCYXTpVNcKXH"
      },
      "source": [
        "####**Categorical Features**\n",
        "\n",
        "We have checked the pearson correlation of the numerical features using the correlation heatmap. We will also need to observe relations between the categorical data and resale price.\n",
        "\n",
        "**Observations:**\n"
      ]
    },
    {
      "cell_type": "code",
      "metadata": {
        "id": "lvuVqBhIbIpx"
      },
      "source": [
        "# def srt_box(y, df,exclude_columns=[]):\n",
        "    \n",
        "#     cat_col_names = df.drop(columns=exclude_columns).select_dtypes(include=['object']).columns\n",
        "#     print(f'plotting columns: {cat_col_names}')\n",
        "#     num_cat = len(list(cat_col_names))\n",
        "    \n",
        "#     fig, axes = plt.subplots(num_cat, 1, figsize=(20, 40))\n",
        "#     axes = axes.flatten()\n",
        "\n",
        "#     for i, j in zip(cat_col_names, axes):\n",
        "#         print(f'plotting column: {i}')\n",
        "#         sortd = df.groupby([i])[y].median().sort_values(ascending=False)\n",
        "#         sns.boxplot(x=i,\n",
        "#                     y=y,\n",
        "#                     data=df,\n",
        "#                     palette='plasma',\n",
        "#                     order=sortd.index,\n",
        "#                     ax=j)\n",
        "#         j.tick_params(labelrotation=45)\n",
        "#         j.yaxis.set_major_locator(MaxNLocator(nbins=18))\n",
        "\n",
        "#         plt.tight_layout()\n",
        "\n",
        "# srt_box('resale_price', df_eda,['street_name','block'])"
      ],
      "execution_count": 13,
      "outputs": []
    },
    {
      "cell_type": "markdown",
      "metadata": {
        "id": "kp_9pAAaMpst"
      },
      "source": [
        "###**Feature Engineering**\n",
        "In this chapter we design new features to improve the representation of the data. We also take in external datasets to introduce useful semantics in the dataset to draw clearer associations from the features to the target_variable."
      ]
    },
    {
      "cell_type": "markdown",
      "metadata": {
        "id": "ks2mtQuJZCz4"
      },
      "source": [
        "####**Creating New Features**"
      ]
    },
    {
      "cell_type": "code",
      "metadata": {
        "id": "iSdGegOrkf2k"
      },
      "source": [
        "df_eng = df_eda.copy()\n",
        "\n",
        "#cast numerical features to float\n",
        "df_eng['storey'] = df_eng['storey'].astype('float')\n",
        "df_eng['remaining_lease'] = df_eng['remaining_lease'].astype('float')\n",
        "\n",
        "#create address feature\n",
        "df_eng['address'] = df_eng['block'] + \" \" + df_eng['street_name']\n",
        "\n",
        "#drop unused features\n",
        "df_eng = df_eng.drop(columns=['month','block','lease_commence_date','storey_range'])"
      ],
      "execution_count": 14,
      "outputs": []
    },
    {
      "cell_type": "markdown",
      "metadata": {
        "id": "XcAXW1EztAP1"
      },
      "source": [
        "####**Integrating Distance to Amenities & CBD**\n",
        "\n",
        "It is intuitive that the distance to nearby amenities is a significant factor in the pricing of HDB flats. The nearer units are to MRTs/LRTs and malls, the more convenient they are and thus command a higher value. As a baseline, we can tap on the search API offered by the OneMaps system to obtain geocoordinates of each HDB block, as well as the coordinates of MRTs and malls. A feature we could engineer is distance_to_mrt and distance_to_mall, which should show the distance (or walking time) to the nearest MRT/Mall.\n",
        "\n",
        "Flats nearer to CBD also command a higher price due to its convenience. We can include distance_to_cbd as a feature by calculating the haversine distance from the block to Raffles Place MRT"
      ]
    },
    {
      "cell_type": "markdown",
      "metadata": {
        "id": "cI47LamgOHsk"
      },
      "source": [
        "**Converting Block Addresses to Coordinates**\n",
        "\n",
        "We will utilise the OneMaps Search API to convert the addressses to lat long coordinates. The Search API comes in the form of a GET request, with no requirement for token authentication. Hence, we should be able to call it without easily hitting the rate limiter.\n",
        "\n"
      ]
    },
    {
      "cell_type": "code",
      "metadata": {
        "colab": {
          "base_uri": "https://localhost:8080/"
        },
        "id": "gs7_oxOtdg2M",
        "outputId": "2ec6170f-5609-4491-92b3-a188e76fe766"
      },
      "source": [
        "addresses = df_eng['address'].unique()\n",
        "print(len(addresses))"
      ],
      "execution_count": 15,
      "outputs": [
        {
          "output_type": "stream",
          "text": [
            "9044\n"
          ],
          "name": "stdout"
        }
      ]
    },
    {
      "cell_type": "code",
      "metadata": {
        "id": "JTrKww6BDbEn"
      },
      "source": [
        "nest_asyncio.apply()\n",
        "\n",
        "async def fetch(session,addr_url):\n",
        "    addr = addr_url[0]\n",
        "    url = addr_url[1]\n",
        "    async with session.get(url) as response:\n",
        "        if response.status != 200:\n",
        "            response.raise_for_status()\n",
        "        return {\n",
        "            'addr': addr,\n",
        "            'res': await response.text(),\n",
        "        }\n",
        "\n",
        "async def fetch_all(session, addresses):\n",
        "    queries = addresses\n",
        "    queries = [urllib.parse.quote(query).replace(\".\",\"\") for query in queries] #special char replacement for url\n",
        "    url1 = \"https://developers.onemap.sg/commonapi/search?searchVal=\"\n",
        "    url2 = \"&returnGeom=Y&getAddrDetails=N&pageNum=1\"\n",
        "    urls = [ url1+query+url2 for query in queries]\n",
        "    addr_urls = zip(addresses,urls)\n",
        "    tasks = []\n",
        "    for addr_url in addr_urls:\n",
        "        task = asyncio.create_task(fetch(session, addr_url))\n",
        "        tasks.append(task)\n",
        "    results = await asyncio.gather(*tasks)\n",
        "    return results\n",
        "\n",
        "async def async_fetch_addresses(addresses):\n",
        "    time1 = time.time()\n",
        "    input = []\n",
        "    latitudes = []\n",
        "    longitudes = []\n",
        "    not_found = []\n",
        "    print(f'Fetch initiated for {len(addresses)} urls.')\n",
        "    async with aiohttp.ClientSession() as session:\n",
        "        htmls = await fetch_all(session, addresses)        \n",
        "        for html in htmls:\n",
        "            if (json.loads(html['res'])['found'] == 0):\n",
        "                not_found.append(html['addr'])\n",
        "            else:\n",
        "                input.append(html['addr'])\n",
        "                latitudes.append(json.loads(html['res'])['results'][0][\"LATITUDE\"])\n",
        "                longitudes.append(json.loads(html['res'])['results'][0]['LONGITUDE'])\n",
        "        time2 = time.time()\n",
        "        print(f\"Search took {time2-time1:.2f} s\")\n",
        "        print(f'Fetch completed for {len(addresses)} urls, {len(input)} urls were located, {len(not_found)} urls could not be found.')\n",
        "        return input, latitudes, longitudes, not_found \n",
        "\n",
        "def fetch_addresses(addresses):\n",
        "    Loop = asyncio.get_event_loop()\n",
        "    input, latitudes, longitudes, not_found = Loop.run_until_complete(async_fetch_addresses(addresses))\n",
        "    return input, latitudes, longitudes, not_found"
      ],
      "execution_count": 16,
      "outputs": []
    },
    {
      "cell_type": "markdown",
      "metadata": {
        "id": "6XMDIGgbJIdr"
      },
      "source": [
        "We create a scraping function that queries the OneMaps Search API to derive the geocoordinates of each HDB Block. We then save the results in a pickle file so that we can immediately restore the variables if we rerun the program."
      ]
    },
    {
      "cell_type": "markdown",
      "metadata": {
        "id": "Yl4DDJ5Uk3SQ"
      },
      "source": [
        "A search on the addresses in the not_found list reveal that these HDB blocks have been demolished some time ago. We will drop these samples from the dataset."
      ]
    },
    {
      "cell_type": "code",
      "metadata": {
        "id": "YqztZ35lLm6d"
      },
      "source": [
        "# print(input)\n",
        "# print(latitudes)\n",
        "# print(longitudes)\n",
        "# print(not_found)"
      ],
      "execution_count": 17,
      "outputs": []
    },
    {
      "cell_type": "code",
      "metadata": {
        "id": "alB8R9g0Vj4H"
      },
      "source": [
        "# df_geo = pd.DataFrame()\n",
        "# df_geo['address'] = pd.Series(input)\n",
        "# df_geo['latitude'] = pd.Series(latitudes)\n",
        "# df_geo['longitude'] = pd.Series(longitudes)\n",
        "# display(df_geo.head())\n",
        "# print(df_geo.info())"
      ],
      "execution_count": 18,
      "outputs": []
    },
    {
      "cell_type": "markdown",
      "metadata": {
        "id": "EOC0Cy50d7GW"
      },
      "source": [
        "**Load MRT Station & Mall datasets**\n",
        "\n",
        "Now that we have the geocoordinates for the 9130 valid addresses (sans 78 demolished/missing blocks), we want to obtain a list of mrt stations and malls in Singapore so that we can calculate the distances to these key amenities."
      ]
    },
    {
      "cell_type": "code",
      "metadata": {
        "colab": {
          "base_uri": "https://localhost:8080/",
          "height": 765
        },
        "id": "ZVpAPgfnd6ei",
        "outputId": "bd035e99-5684-401d-eb57-66cb30eb26d2"
      },
      "source": [
        "mrt_data = pd.read_csv(drive_path+'mrt_station_names_and_commencement.csv')\n",
        "mall_data = pd.read_csv(drive_path+'shopping_mall_names_and_commencement.csv')\n",
        "display(mrt_data.head())\n",
        "print(mrt_data.info())\n",
        "display(mall_data.head())\n",
        "print(mall_data.info())"
      ],
      "execution_count": 19,
      "outputs": [
        {
          "output_type": "display_data",
          "data": {
            "text/html": [
              "<div>\n",
              "<style scoped>\n",
              "    .dataframe tbody tr th:only-of-type {\n",
              "        vertical-align: middle;\n",
              "    }\n",
              "\n",
              "    .dataframe tbody tr th {\n",
              "        vertical-align: top;\n",
              "    }\n",
              "\n",
              "    .dataframe thead th {\n",
              "        text-align: right;\n",
              "    }\n",
              "</style>\n",
              "<table border=\"1\" class=\"dataframe\">\n",
              "  <thead>\n",
              "    <tr style=\"text-align: right;\">\n",
              "      <th></th>\n",
              "      <th>stn_code</th>\n",
              "      <th>mrt_station_english</th>\n",
              "      <th>mrt_line_english</th>\n",
              "      <th>line_commencement</th>\n",
              "    </tr>\n",
              "  </thead>\n",
              "  <tbody>\n",
              "    <tr>\n",
              "      <th>0</th>\n",
              "      <td>NS1</td>\n",
              "      <td>Jurong East</td>\n",
              "      <td>North South Line</td>\n",
              "      <td>1990</td>\n",
              "    </tr>\n",
              "    <tr>\n",
              "      <th>1</th>\n",
              "      <td>NS2</td>\n",
              "      <td>Bukit Batok</td>\n",
              "      <td>North South Line</td>\n",
              "      <td>1990</td>\n",
              "    </tr>\n",
              "    <tr>\n",
              "      <th>2</th>\n",
              "      <td>NS3</td>\n",
              "      <td>Bukit Gombak</td>\n",
              "      <td>North South Line</td>\n",
              "      <td>1990</td>\n",
              "    </tr>\n",
              "    <tr>\n",
              "      <th>3</th>\n",
              "      <td>NS4</td>\n",
              "      <td>Choa Chu Kang</td>\n",
              "      <td>North South Line</td>\n",
              "      <td>1990</td>\n",
              "    </tr>\n",
              "    <tr>\n",
              "      <th>4</th>\n",
              "      <td>NS5</td>\n",
              "      <td>Yew Tee</td>\n",
              "      <td>North South Line</td>\n",
              "      <td>1996</td>\n",
              "    </tr>\n",
              "  </tbody>\n",
              "</table>\n",
              "</div>"
            ],
            "text/plain": [
              "  stn_code mrt_station_english   mrt_line_english  line_commencement\n",
              "0      NS1         Jurong East  North South Line                1990\n",
              "1      NS2         Bukit Batok   North South Line               1990\n",
              "2      NS3        Bukit Gombak   North South Line               1990\n",
              "3      NS4       Choa Chu Kang   North South Line               1990\n",
              "4      NS5             Yew Tee   North South Line               1996"
            ]
          },
          "metadata": {
            "tags": []
          }
        },
        {
          "output_type": "stream",
          "text": [
            "<class 'pandas.core.frame.DataFrame'>\n",
            "RangeIndex: 188 entries, 0 to 187\n",
            "Data columns (total 4 columns):\n",
            " #   Column               Non-Null Count  Dtype \n",
            "---  ------               --------------  ----- \n",
            " 0   stn_code             188 non-null    object\n",
            " 1   mrt_station_english  188 non-null    object\n",
            " 2   mrt_line_english     188 non-null    object\n",
            " 3   line_commencement    188 non-null    int64 \n",
            "dtypes: int64(1), object(3)\n",
            "memory usage: 6.0+ KB\n",
            "None\n"
          ],
          "name": "stdout"
        },
        {
          "output_type": "display_data",
          "data": {
            "text/html": [
              "<div>\n",
              "<style scoped>\n",
              "    .dataframe tbody tr th:only-of-type {\n",
              "        vertical-align: middle;\n",
              "    }\n",
              "\n",
              "    .dataframe tbody tr th {\n",
              "        vertical-align: top;\n",
              "    }\n",
              "\n",
              "    .dataframe thead th {\n",
              "        text-align: right;\n",
              "    }\n",
              "</style>\n",
              "<table border=\"1\" class=\"dataframe\">\n",
              "  <thead>\n",
              "    <tr style=\"text-align: right;\">\n",
              "      <th></th>\n",
              "      <th>mall_name</th>\n",
              "      <th>mall_commencement</th>\n",
              "    </tr>\n",
              "  </thead>\n",
              "  <tbody>\n",
              "    <tr>\n",
              "      <th>0</th>\n",
              "      <td>100 AM</td>\n",
              "      <td>2019</td>\n",
              "    </tr>\n",
              "    <tr>\n",
              "      <th>1</th>\n",
              "      <td>600 @ Toa Payoh</td>\n",
              "      <td>1972</td>\n",
              "    </tr>\n",
              "    <tr>\n",
              "      <th>2</th>\n",
              "      <td>Anchorpoint</td>\n",
              "      <td>1997</td>\n",
              "    </tr>\n",
              "    <tr>\n",
              "      <th>3</th>\n",
              "      <td>Beauty World Centre</td>\n",
              "      <td>1984</td>\n",
              "    </tr>\n",
              "    <tr>\n",
              "      <th>4</th>\n",
              "      <td>Beauty World Plaza</td>\n",
              "      <td>1984</td>\n",
              "    </tr>\n",
              "  </tbody>\n",
              "</table>\n",
              "</div>"
            ],
            "text/plain": [
              "             mall_name  mall_commencement\n",
              "0               100 AM               2019\n",
              "1      600 @ Toa Payoh               1972\n",
              "2          Anchorpoint               1997\n",
              "3  Beauty World Centre               1984\n",
              "4   Beauty World Plaza               1984"
            ]
          },
          "metadata": {
            "tags": []
          }
        },
        {
          "output_type": "stream",
          "text": [
            "<class 'pandas.core.frame.DataFrame'>\n",
            "RangeIndex: 125 entries, 0 to 124\n",
            "Data columns (total 2 columns):\n",
            " #   Column             Non-Null Count  Dtype \n",
            "---  ------             --------------  ----- \n",
            " 0   mall_name          125 non-null    object\n",
            " 1   mall_commencement  125 non-null    int64 \n",
            "dtypes: int64(1), object(1)\n",
            "memory usage: 2.1+ KB\n",
            "None\n"
          ],
          "name": "stdout"
        }
      ]
    },
    {
      "cell_type": "markdown",
      "metadata": {
        "id": "uRfPc79EpSu9"
      },
      "source": [
        "**Convert MRT stations & Malls to Coordinates**\n",
        "\n",
        "Again we use the asynchronous fetch_addresses() function to translate the MRT stations and malls to lat & long using the OneMaps Search API."
      ]
    },
    {
      "cell_type": "code",
      "metadata": {
        "id": "rNXOEKy13wjK"
      },
      "source": [
        "mrt_addresses = mrt_data['mrt_station_english'].tolist()\n",
        "mall_addresses = mall_data['mall_name'].tolist()"
      ],
      "execution_count": 20,
      "outputs": []
    },
    {
      "cell_type": "code",
      "metadata": {
        "id": "LcuLSfiF3kIw"
      },
      "source": [
        "if (not os.path.isfile(drive_path+'mrt_geocoordinates.pickle') or data_refresh):\n",
        "    mrt_input, mrt_latitudes, mrt_longitudes, mrt_not_found = fetch_addresses(mrt_addresses)\n",
        "    with open(drive_path+'mrt_geocoordinates.pickle', 'wb') as f:\n",
        "        pickle.dump([mrt_input,mrt_latitudes,mrt_longitudes,mrt_not_found], f)\n",
        "else:\n",
        "    with open(drive_path+'mrt_geocoordinates.pickle', 'rb') as f:\n",
        "        mrt_input, mrt_latitudes, mrt_longitudes, mrt_not_found = pickle.load(f)\n",
        "\n",
        "if (not os.path.isfile(drive_path+'mall_geocoordinates.pickle')  or data_refresh):\n",
        "    mall_input, mall_latitudes, mall_longitudes, mall_not_found = fetch_addresses(mall_addresses)\n",
        "    with open(drive_path+'mall_geocoordinates.pickle', 'wb') as f:\n",
        "        pickle.dump([mall_input,mall_latitudes,mall_longitudes,mall_not_found], f)\n",
        "else:\n",
        "    with open(drive_path+'mall_geocoordinates.pickle', 'rb') as f:\n",
        "        mall_input,mall_latitudes,mall_longitudes,mall_not_found = pickle.load(f)"
      ],
      "execution_count": 21,
      "outputs": []
    },
    {
      "cell_type": "code",
      "metadata": {
        "colab": {
          "base_uri": "https://localhost:8080/"
        },
        "id": "bxjNG9dMA9ig",
        "outputId": "afb89592-3438-402c-b7b8-57a94d1e88a9"
      },
      "source": [
        "print(mrt_not_found)\n",
        "print(mall_not_found)"
      ],
      "execution_count": 22,
      "outputs": [
        {
          "output_type": "stream",
          "text": [
            "['Ten Mile Junction']\n",
            "['City Vibe', 'myVillage @ Serangoon', 'Clarke Quay Central', 'Shaw House and Centre']\n"
          ],
          "name": "stdout"
        }
      ]
    },
    {
      "cell_type": "code",
      "metadata": {
        "colab": {
          "base_uri": "https://localhost:8080/",
          "height": 765
        },
        "id": "r9JTRXSm4vfF",
        "outputId": "a2e3ddcf-92f8-4954-dadd-549ca4b01112"
      },
      "source": [
        "df_geo_mrt = pd.DataFrame()\n",
        "df_geo_mrt['address'] = pd.Series(mrt_input)\n",
        "df_geo_mrt['latitude'] = pd.Series(mrt_latitudes)\n",
        "df_geo_mrt['longitude'] = pd.Series(mrt_longitudes)\n",
        "df_geo_mrt = df_geo_mrt.drop_duplicates()\n",
        "display(df_geo_mrt.head())\n",
        "print(df_geo_mrt.info())\n",
        "\n",
        "df_geo_mall = pd.DataFrame()\n",
        "df_geo_mall['address'] = pd.Series(mall_input)\n",
        "df_geo_mall['latitude'] = pd.Series(mall_latitudes)\n",
        "df_geo_mall['longitude'] = pd.Series(mall_longitudes)\n",
        "df_geo_mall = df_geo_mall.drop_duplicates()\n",
        "display(df_geo_mall.head())\n",
        "print(df_geo_mall.info())\n",
        "\n",
        "df_geo_cbd = df_geo_mrt[df_geo_mrt['address']=='Raffles Place']"
      ],
      "execution_count": 23,
      "outputs": [
        {
          "output_type": "display_data",
          "data": {
            "text/html": [
              "<div>\n",
              "<style scoped>\n",
              "    .dataframe tbody tr th:only-of-type {\n",
              "        vertical-align: middle;\n",
              "    }\n",
              "\n",
              "    .dataframe tbody tr th {\n",
              "        vertical-align: top;\n",
              "    }\n",
              "\n",
              "    .dataframe thead th {\n",
              "        text-align: right;\n",
              "    }\n",
              "</style>\n",
              "<table border=\"1\" class=\"dataframe\">\n",
              "  <thead>\n",
              "    <tr style=\"text-align: right;\">\n",
              "      <th></th>\n",
              "      <th>address</th>\n",
              "      <th>latitude</th>\n",
              "      <th>longitude</th>\n",
              "    </tr>\n",
              "  </thead>\n",
              "  <tbody>\n",
              "    <tr>\n",
              "      <th>0</th>\n",
              "      <td>Jurong East</td>\n",
              "      <td>1.33640566975239</td>\n",
              "      <td>103.743075430286</td>\n",
              "    </tr>\n",
              "    <tr>\n",
              "      <th>1</th>\n",
              "      <td>Bukit Batok</td>\n",
              "      <td>1.34379418142098</td>\n",
              "      <td>103.753493493145</td>\n",
              "    </tr>\n",
              "    <tr>\n",
              "      <th>2</th>\n",
              "      <td>Bukit Gombak</td>\n",
              "      <td>1.36782598904503</td>\n",
              "      <td>103.75745445245</td>\n",
              "    </tr>\n",
              "    <tr>\n",
              "      <th>3</th>\n",
              "      <td>Choa Chu Kang</td>\n",
              "      <td>1.37753458068331</td>\n",
              "      <td>103.750283750092</td>\n",
              "    </tr>\n",
              "    <tr>\n",
              "      <th>4</th>\n",
              "      <td>Yew Tee</td>\n",
              "      <td>1.38948549954614</td>\n",
              "      <td>103.757569931494</td>\n",
              "    </tr>\n",
              "  </tbody>\n",
              "</table>\n",
              "</div>"
            ],
            "text/plain": [
              "         address          latitude         longitude\n",
              "0    Jurong East  1.33640566975239  103.743075430286\n",
              "1    Bukit Batok  1.34379418142098  103.753493493145\n",
              "2   Bukit Gombak  1.36782598904503   103.75745445245\n",
              "3  Choa Chu Kang  1.37753458068331  103.750283750092\n",
              "4        Yew Tee  1.38948549954614  103.757569931494"
            ]
          },
          "metadata": {
            "tags": []
          }
        },
        {
          "output_type": "stream",
          "text": [
            "<class 'pandas.core.frame.DataFrame'>\n",
            "Int64Index: 160 entries, 0 to 186\n",
            "Data columns (total 3 columns):\n",
            " #   Column     Non-Null Count  Dtype \n",
            "---  ------     --------------  ----- \n",
            " 0   address    160 non-null    object\n",
            " 1   latitude   160 non-null    object\n",
            " 2   longitude  160 non-null    object\n",
            "dtypes: object(3)\n",
            "memory usage: 5.0+ KB\n",
            "None\n"
          ],
          "name": "stdout"
        },
        {
          "output_type": "display_data",
          "data": {
            "text/html": [
              "<div>\n",
              "<style scoped>\n",
              "    .dataframe tbody tr th:only-of-type {\n",
              "        vertical-align: middle;\n",
              "    }\n",
              "\n",
              "    .dataframe tbody tr th {\n",
              "        vertical-align: top;\n",
              "    }\n",
              "\n",
              "    .dataframe thead th {\n",
              "        text-align: right;\n",
              "    }\n",
              "</style>\n",
              "<table border=\"1\" class=\"dataframe\">\n",
              "  <thead>\n",
              "    <tr style=\"text-align: right;\">\n",
              "      <th></th>\n",
              "      <th>address</th>\n",
              "      <th>latitude</th>\n",
              "      <th>longitude</th>\n",
              "    </tr>\n",
              "  </thead>\n",
              "  <tbody>\n",
              "    <tr>\n",
              "      <th>0</th>\n",
              "      <td>100 AM</td>\n",
              "      <td>1.27458821795424</td>\n",
              "      <td>103.84347073661</td>\n",
              "    </tr>\n",
              "    <tr>\n",
              "      <th>1</th>\n",
              "      <td>600 @ Toa Payoh</td>\n",
              "      <td>1.33404171129955</td>\n",
              "      <td>103.850955458676</td>\n",
              "    </tr>\n",
              "    <tr>\n",
              "      <th>2</th>\n",
              "      <td>Anchorpoint</td>\n",
              "      <td>1.28893477974498</td>\n",
              "      <td>103.805607779399</td>\n",
              "    </tr>\n",
              "    <tr>\n",
              "      <th>3</th>\n",
              "      <td>Beauty World Centre</td>\n",
              "      <td>1.34241264188642</td>\n",
              "      <td>103.776539385678</td>\n",
              "    </tr>\n",
              "    <tr>\n",
              "      <th>4</th>\n",
              "      <td>Beauty World Plaza</td>\n",
              "      <td>1.34178799847021</td>\n",
              "      <td>103.776304121109</td>\n",
              "    </tr>\n",
              "  </tbody>\n",
              "</table>\n",
              "</div>"
            ],
            "text/plain": [
              "               address          latitude         longitude\n",
              "0               100 AM  1.27458821795424   103.84347073661\n",
              "1      600 @ Toa Payoh  1.33404171129955  103.850955458676\n",
              "2          Anchorpoint  1.28893477974498  103.805607779399\n",
              "3  Beauty World Centre  1.34241264188642  103.776539385678\n",
              "4   Beauty World Plaza  1.34178799847021  103.776304121109"
            ]
          },
          "metadata": {
            "tags": []
          }
        },
        {
          "output_type": "stream",
          "text": [
            "<class 'pandas.core.frame.DataFrame'>\n",
            "Int64Index: 121 entries, 0 to 120\n",
            "Data columns (total 3 columns):\n",
            " #   Column     Non-Null Count  Dtype \n",
            "---  ------     --------------  ----- \n",
            " 0   address    121 non-null    object\n",
            " 1   latitude   121 non-null    object\n",
            " 2   longitude  121 non-null    object\n",
            "dtypes: object(3)\n",
            "memory usage: 3.8+ KB\n",
            "None\n"
          ],
          "name": "stdout"
        }
      ]
    },
    {
      "cell_type": "markdown",
      "metadata": {
        "id": "iC0-EhQJ6bzT"
      },
      "source": [
        "**Compute distances to cbd, nearest mrt and nearest mall**"
      ]
    },
    {
      "cell_type": "markdown",
      "metadata": {
        "id": "fXFAjMgM5pHj"
      },
      "source": [
        "Now that we have the coordinates of all mrt and malls in Singapore, we can get started on creating the distance features. We will identify the nearest mrt and mall, and also compute the distances (in KM) to them as wells the distance to CBD (using Raffles Place MRT)."
      ]
    },
    {
      "cell_type": "code",
      "metadata": {
        "id": "sozaUcTSBsAs"
      },
      "source": [
        "def computedistances(df_hdb,df_poi,poi_type):\n",
        "\n",
        "    \"\"\"Computes the distance of a list of addresses to the nearest poi and distance to CBD (Raffles Place MRT)\n",
        "\n",
        "    Parameters:\n",
        "    df_hdb (DataFrame): Dataframe containing geocoordinates of all HDB blocks\n",
        "    df_poi (DataFrame): Dataframe containing geocoordinates of target POIs\n",
        "    poi_type (String) : Name of column. Will be represented as 'nearest_[poi_type]' and 'distance_to_[poi_type]'\n",
        "\n",
        "    Returns:\n",
        "    df_dist (DataFrame)): Dataframe of df_hdb with two new columns (nearest_poi_type,distance_to_poi_type)\n",
        "\n",
        "    \"\"\"\n",
        "\n",
        "    df_dist = df_hdb.copy()\n",
        "    df_targets = df_poi.copy()\n",
        "\n",
        "    df_hdb['latitude'] = df_hdb['latitude'].astype('float')\n",
        "    df_hdb['longitude'] = df_hdb['longitude'].astype('float')\n",
        "    df_targets['latitude'] = df_targets['latitude'].astype('float')\n",
        "    df_targets['longitude'] = df_targets['longitude'].astype('float')\n",
        "\n",
        "    nearest_target_list = []\n",
        "    nearest_target_distance_list = []\n",
        "\n",
        "    for address_index, address_row in df_hdb.iterrows(): #for each hdb block\n",
        "        df_targets['proxy_dist'] = (df_targets['latitude'] - address_row['latitude'])**2 + (df_targets['longitude'] - address_row['longitude'])**2 #get squared distance of address to all pois\n",
        "        nearest_target = df_targets[df_targets['proxy_dist'] == df_targets['proxy_dist'].min()] #select closest poi\n",
        "        nearest_lat = nearest_target['latitude'].values[0]\n",
        "        nearest_long = nearest_target['longitude'].values[0] \n",
        "        nearest_target_distance = distance.distance((address_row['latitude'],address_row['longitude']),(nearest_lat,nearest_long)).km\n",
        "        nearest_target_name = nearest_target['address'].values[0] \n",
        "        nearest_target_list.append(nearest_target_name)\n",
        "        nearest_target_distance_list.append(nearest_target_distance)\n",
        "\n",
        "    df_dist['nearest_'+poi_type] = pd.Series(nearest_target_list)\n",
        "    df_dist['distance_to_'+poi_type] = pd.Series(nearest_target_distance_list)\n",
        "\n",
        "    return df_dist"
      ],
      "execution_count": 24,
      "outputs": []
    },
    {
      "cell_type": "code",
      "metadata": {
        "id": "RB824jH4Jbu1"
      },
      "source": [
        "if (not os.path.isfile(drive_path+'df_dist.pickle') or data_refresh):\n",
        "    time1 = time.time()\n",
        "    df_dist = computedistances(df_geo,df_geo_mrt,'mrt')\n",
        "    df_dist = computedistances(df_dist,df_geo_mall,'mall')\n",
        "    df_dist = computedistances(df_dist,df_geo_cbd,'cbd')\n",
        "    df_dist = df_dist.drop(columns=['nearest_cbd'])\n",
        "    time2 = time.time()\n",
        "    print(f\"Calculation took {time2-time1:.2f} s\")\n",
        "    with open(drive_path+'df_dist.pickle', 'wb') as f:\n",
        "        pickle.dump(df_dist, f)\n",
        "else:\n",
        "    with open(drive_path+'df_dist.pickle', 'rb') as f:\n",
        "        df_dist = pickle.load(f)"
      ],
      "execution_count": 25,
      "outputs": []
    },
    {
      "cell_type": "code",
      "metadata": {
        "colab": {
          "base_uri": "https://localhost:8080/",
          "height": 289
        },
        "id": "OEM5tYqnJUQq",
        "outputId": "666fbdc6-41aa-45d9-db2e-4547f9d5ee81"
      },
      "source": [
        "display(df_dist.head())"
      ],
      "execution_count": 26,
      "outputs": [
        {
          "output_type": "display_data",
          "data": {
            "text/html": [
              "<div>\n",
              "<style scoped>\n",
              "    .dataframe tbody tr th:only-of-type {\n",
              "        vertical-align: middle;\n",
              "    }\n",
              "\n",
              "    .dataframe tbody tr th {\n",
              "        vertical-align: top;\n",
              "    }\n",
              "\n",
              "    .dataframe thead th {\n",
              "        text-align: right;\n",
              "    }\n",
              "</style>\n",
              "<table border=\"1\" class=\"dataframe\">\n",
              "  <thead>\n",
              "    <tr style=\"text-align: right;\">\n",
              "      <th></th>\n",
              "      <th>address</th>\n",
              "      <th>latitude</th>\n",
              "      <th>longitude</th>\n",
              "      <th>nearest_mrt</th>\n",
              "      <th>distance_to_mrt</th>\n",
              "      <th>nearest_mall</th>\n",
              "      <th>distance_to_mall</th>\n",
              "      <th>distance_to_cbd</th>\n",
              "    </tr>\n",
              "  </thead>\n",
              "  <tbody>\n",
              "    <tr>\n",
              "      <th>0</th>\n",
              "      <td>406 ANG MO KIO AVE 10</td>\n",
              "      <td>1.36200453938712</td>\n",
              "      <td>103.853879910407</td>\n",
              "      <td>Lorong Chuan</td>\n",
              "      <td>1.517090</td>\n",
              "      <td>AMK Hub</td>\n",
              "      <td>1.003018</td>\n",
              "      <td>8.636910</td>\n",
              "    </tr>\n",
              "    <tr>\n",
              "      <th>1</th>\n",
              "      <td>108 ANG MO KIO AVE 4</td>\n",
              "      <td>1.37094273993858</td>\n",
              "      <td>103.837974822369</td>\n",
              "      <td>Ang Mo Kio</td>\n",
              "      <td>0.242425</td>\n",
              "      <td>AMK Hub</td>\n",
              "      <td>1.182146</td>\n",
              "      <td>9.737461</td>\n",
              "    </tr>\n",
              "    <tr>\n",
              "      <th>2</th>\n",
              "      <td>602 ANG MO KIO AVE 5</td>\n",
              "      <td>1.38070883044889</td>\n",
              "      <td>103.835368226602</td>\n",
              "      <td>Ang Mo Kio</td>\n",
              "      <td>1.354189</td>\n",
              "      <td>AMK Hub</td>\n",
              "      <td>1.930811</td>\n",
              "      <td>10.849821</td>\n",
              "    </tr>\n",
              "    <tr>\n",
              "      <th>3</th>\n",
              "      <td>465 ANG MO KIO AVE 10</td>\n",
              "      <td>1.36620104082939</td>\n",
              "      <td>103.857200967235</td>\n",
              "      <td>Lorong Chuan</td>\n",
              "      <td>1.721551</td>\n",
              "      <td>AMK Hub</td>\n",
              "      <td>1.029290</td>\n",
              "      <td>9.119134</td>\n",
              "    </tr>\n",
              "    <tr>\n",
              "      <th>4</th>\n",
              "      <td>601 ANG MO KIO AVE 5</td>\n",
              "      <td>1.38104134784496</td>\n",
              "      <td>103.835131744823</td>\n",
              "      <td>Ang Mo Kio</td>\n",
              "      <td>1.395882</td>\n",
              "      <td>AMK Hub</td>\n",
              "      <td>1.974822</td>\n",
              "      <td>10.890447</td>\n",
              "    </tr>\n",
              "  </tbody>\n",
              "</table>\n",
              "</div>"
            ],
            "text/plain": [
              "                 address          latitude  ... distance_to_mall distance_to_cbd\n",
              "0  406 ANG MO KIO AVE 10  1.36200453938712  ...         1.003018        8.636910\n",
              "1   108 ANG MO KIO AVE 4  1.37094273993858  ...         1.182146        9.737461\n",
              "2   602 ANG MO KIO AVE 5  1.38070883044889  ...         1.930811       10.849821\n",
              "3  465 ANG MO KIO AVE 10  1.36620104082939  ...         1.029290        9.119134\n",
              "4   601 ANG MO KIO AVE 5  1.38104134784496  ...         1.974822       10.890447\n",
              "\n",
              "[5 rows x 8 columns]"
            ]
          },
          "metadata": {
            "tags": []
          }
        }
      ]
    },
    {
      "cell_type": "markdown",
      "metadata": {
        "id": "juAYwBzYvYdY"
      },
      "source": [
        "**Merge distances to main dataset**"
      ]
    },
    {
      "cell_type": "markdown",
      "metadata": {
        "id": "_sBUhY7muSgh"
      },
      "source": [
        "Now that we have the distances for each block, we will merge the distances dataframe back to the main housing_data dataset."
      ]
    },
    {
      "cell_type": "code",
      "metadata": {
        "colab": {
          "base_uri": "https://localhost:8080/"
        },
        "id": "AiRHhusvux_T",
        "outputId": "d593d345-766c-45ff-b8f6-4e147cefddfa"
      },
      "source": [
        "df_complete = df_eng.merge(df_dist, left_on=['address'], right_on = ['address'], how='left').dropna()\n",
        "df_complete['latitude'] = df_complete['latitude'].astype('float')\n",
        "df_complete['longitude'] = df_complete['longitude'].astype('float')\n",
        "print(df_complete.info())"
      ],
      "execution_count": 27,
      "outputs": [
        {
          "output_type": "stream",
          "text": [
            "<class 'pandas.core.frame.DataFrame'>\n",
            "Int64Index: 98799 entries, 0 to 98798\n",
            "Data columns (total 17 columns):\n",
            " #   Column            Non-Null Count  Dtype  \n",
            "---  ------            --------------  -----  \n",
            " 0   town              98799 non-null  object \n",
            " 1   flat_type         98799 non-null  object \n",
            " 2   street_name       98799 non-null  object \n",
            " 3   floor_area_sqm    98799 non-null  float64\n",
            " 4   flat_model        98799 non-null  object \n",
            " 5   remaining_lease   98799 non-null  float64\n",
            " 6   resale_price      98799 non-null  float64\n",
            " 7   year              98799 non-null  int64  \n",
            " 8   storey            98799 non-null  float64\n",
            " 9   address           98799 non-null  object \n",
            " 10  latitude          98799 non-null  float64\n",
            " 11  longitude         98799 non-null  float64\n",
            " 12  nearest_mrt       98799 non-null  object \n",
            " 13  distance_to_mrt   98799 non-null  float64\n",
            " 14  nearest_mall      98799 non-null  object \n",
            " 15  distance_to_mall  98799 non-null  float64\n",
            " 16  distance_to_cbd   98799 non-null  float64\n",
            "dtypes: float64(9), int64(1), object(7)\n",
            "memory usage: 13.6+ MB\n",
            "None\n"
          ],
          "name": "stdout"
        }
      ]
    },
    {
      "cell_type": "code",
      "metadata": {
        "colab": {
          "base_uri": "https://localhost:8080/",
          "height": 394
        },
        "id": "iqoZaMuq0MSK",
        "outputId": "a2059d58-b4e8-4493-c1ac-5a5a887caa64"
      },
      "source": [
        "display(df_complete.head())"
      ],
      "execution_count": 28,
      "outputs": [
        {
          "output_type": "display_data",
          "data": {
            "text/html": [
              "<div>\n",
              "<style scoped>\n",
              "    .dataframe tbody tr th:only-of-type {\n",
              "        vertical-align: middle;\n",
              "    }\n",
              "\n",
              "    .dataframe tbody tr th {\n",
              "        vertical-align: top;\n",
              "    }\n",
              "\n",
              "    .dataframe thead th {\n",
              "        text-align: right;\n",
              "    }\n",
              "</style>\n",
              "<table border=\"1\" class=\"dataframe\">\n",
              "  <thead>\n",
              "    <tr style=\"text-align: right;\">\n",
              "      <th></th>\n",
              "      <th>town</th>\n",
              "      <th>flat_type</th>\n",
              "      <th>street_name</th>\n",
              "      <th>floor_area_sqm</th>\n",
              "      <th>flat_model</th>\n",
              "      <th>remaining_lease</th>\n",
              "      <th>resale_price</th>\n",
              "      <th>year</th>\n",
              "      <th>storey</th>\n",
              "      <th>address</th>\n",
              "      <th>latitude</th>\n",
              "      <th>longitude</th>\n",
              "      <th>nearest_mrt</th>\n",
              "      <th>distance_to_mrt</th>\n",
              "      <th>nearest_mall</th>\n",
              "      <th>distance_to_mall</th>\n",
              "      <th>distance_to_cbd</th>\n",
              "    </tr>\n",
              "  </thead>\n",
              "  <tbody>\n",
              "    <tr>\n",
              "      <th>0</th>\n",
              "      <td>ANG MO KIO</td>\n",
              "      <td>2 ROOM</td>\n",
              "      <td>ANG MO KIO AVE 10</td>\n",
              "      <td>44.0</td>\n",
              "      <td>Improved</td>\n",
              "      <td>61.0</td>\n",
              "      <td>232000.0</td>\n",
              "      <td>2017</td>\n",
              "      <td>10.0</td>\n",
              "      <td>406 ANG MO KIO AVE 10</td>\n",
              "      <td>1.362005</td>\n",
              "      <td>103.853880</td>\n",
              "      <td>Lorong Chuan</td>\n",
              "      <td>1.517090</td>\n",
              "      <td>AMK Hub</td>\n",
              "      <td>1.003018</td>\n",
              "      <td>8.636910</td>\n",
              "    </tr>\n",
              "    <tr>\n",
              "      <th>1</th>\n",
              "      <td>ANG MO KIO</td>\n",
              "      <td>3 ROOM</td>\n",
              "      <td>ANG MO KIO AVE 4</td>\n",
              "      <td>67.0</td>\n",
              "      <td>New Generation</td>\n",
              "      <td>60.0</td>\n",
              "      <td>250000.0</td>\n",
              "      <td>2017</td>\n",
              "      <td>2.0</td>\n",
              "      <td>108 ANG MO KIO AVE 4</td>\n",
              "      <td>1.370943</td>\n",
              "      <td>103.837975</td>\n",
              "      <td>Ang Mo Kio</td>\n",
              "      <td>0.242425</td>\n",
              "      <td>AMK Hub</td>\n",
              "      <td>1.182146</td>\n",
              "      <td>9.737461</td>\n",
              "    </tr>\n",
              "    <tr>\n",
              "      <th>2</th>\n",
              "      <td>ANG MO KIO</td>\n",
              "      <td>3 ROOM</td>\n",
              "      <td>ANG MO KIO AVE 5</td>\n",
              "      <td>67.0</td>\n",
              "      <td>New Generation</td>\n",
              "      <td>62.0</td>\n",
              "      <td>262000.0</td>\n",
              "      <td>2017</td>\n",
              "      <td>2.0</td>\n",
              "      <td>602 ANG MO KIO AVE 5</td>\n",
              "      <td>1.380709</td>\n",
              "      <td>103.835368</td>\n",
              "      <td>Ang Mo Kio</td>\n",
              "      <td>1.354189</td>\n",
              "      <td>AMK Hub</td>\n",
              "      <td>1.930811</td>\n",
              "      <td>10.849821</td>\n",
              "    </tr>\n",
              "    <tr>\n",
              "      <th>3</th>\n",
              "      <td>ANG MO KIO</td>\n",
              "      <td>3 ROOM</td>\n",
              "      <td>ANG MO KIO AVE 10</td>\n",
              "      <td>68.0</td>\n",
              "      <td>New Generation</td>\n",
              "      <td>62.0</td>\n",
              "      <td>265000.0</td>\n",
              "      <td>2017</td>\n",
              "      <td>4.0</td>\n",
              "      <td>465 ANG MO KIO AVE 10</td>\n",
              "      <td>1.366201</td>\n",
              "      <td>103.857201</td>\n",
              "      <td>Lorong Chuan</td>\n",
              "      <td>1.721551</td>\n",
              "      <td>AMK Hub</td>\n",
              "      <td>1.029290</td>\n",
              "      <td>9.119134</td>\n",
              "    </tr>\n",
              "    <tr>\n",
              "      <th>4</th>\n",
              "      <td>ANG MO KIO</td>\n",
              "      <td>3 ROOM</td>\n",
              "      <td>ANG MO KIO AVE 5</td>\n",
              "      <td>67.0</td>\n",
              "      <td>New Generation</td>\n",
              "      <td>62.0</td>\n",
              "      <td>265000.0</td>\n",
              "      <td>2017</td>\n",
              "      <td>1.0</td>\n",
              "      <td>601 ANG MO KIO AVE 5</td>\n",
              "      <td>1.381041</td>\n",
              "      <td>103.835132</td>\n",
              "      <td>Ang Mo Kio</td>\n",
              "      <td>1.395882</td>\n",
              "      <td>AMK Hub</td>\n",
              "      <td>1.974822</td>\n",
              "      <td>10.890447</td>\n",
              "    </tr>\n",
              "  </tbody>\n",
              "</table>\n",
              "</div>"
            ],
            "text/plain": [
              "         town flat_type  ... distance_to_mall  distance_to_cbd\n",
              "0  ANG MO KIO    2 ROOM  ...         1.003018         8.636910\n",
              "1  ANG MO KIO    3 ROOM  ...         1.182146         9.737461\n",
              "2  ANG MO KIO    3 ROOM  ...         1.930811        10.849821\n",
              "3  ANG MO KIO    3 ROOM  ...         1.029290         9.119134\n",
              "4  ANG MO KIO    3 ROOM  ...         1.974822        10.890447\n",
              "\n",
              "[5 rows x 17 columns]"
            ]
          },
          "metadata": {
            "tags": []
          }
        }
      ]
    },
    {
      "cell_type": "code",
      "metadata": {
        "id": "UlcPHYN_RNq4"
      },
      "source": [
        "with open(drive_path+'housing_data.pickle', 'wb') as f:\n",
        "    pickle.dump(df_complete, f)"
      ],
      "execution_count": 29,
      "outputs": []
    },
    {
      "cell_type": "markdown",
      "metadata": {
        "id": "8eUCEUeBB3CT"
      },
      "source": [
        "###Correlation Analysis 2\n",
        "\n",
        "Now that we have created new geographical and distance features, and dropped irrelevant features, we can take a second look at the correlation and distribution plots of our dataset."
      ]
    },
    {
      "cell_type": "markdown",
      "metadata": {
        "id": "v7O1S3AgDGTQ"
      },
      "source": [
        "####**Numerical Features - Correlation Matrix**\n",
        "\n",
        "**Observations:**\n",
        "* The strong positive correlation remains for floor area\n",
        "* Distance to CBD has stronger correlation than distance to amenities"
      ]
    },
    {
      "cell_type": "code",
      "metadata": {
        "colab": {
          "base_uri": "https://localhost:8080/",
          "height": 414
        },
        "id": "CCLfzy2abbrI",
        "outputId": "f4b49a25-fd7e-4dbc-b9b5-ec68405e9939"
      },
      "source": [
        "# Display numerical-to-numerical correlations (pearson correlation) between features on heatmap\n",
        "sns.set(font_scale=1.1)\n",
        "correlation_data = df_complete.corr()\n",
        "mask = np.triu(correlation_data.corr())\n",
        "plt.figure(figsize=(5, 5))\n",
        "sns.heatmap(correlation_data,\n",
        "            annot=True,\n",
        "            fmt='.1f',\n",
        "            cmap='coolwarm',\n",
        "            square=True,\n",
        "            # mask=mask,\n",
        "            linewidths=1,\n",
        "            cbar=False)\n",
        "\n",
        "plt.show()"
      ],
      "execution_count": 30,
      "outputs": [
        {
          "output_type": "display_data",
          "data": {
            "image/png": "[encoded data removed]",
            "text/plain": [
              "<Figure size 360x360 with 1 Axes>"
            ]
          },
          "metadata": {
            "tags": []
          }
        }
      ]
    },
    {
      "cell_type": "markdown",
      "metadata": {
        "id": "CuylyHor2ih3"
      },
      "source": [
        "####**Numerical Features - Scatterplot**\n",
        "\n",
        "**Observations:**\n",
        "* Most HDBs are within 2.5km from an MRT. However, in Pasir Ris town, there is a cluster of units that are extremely far (>3km) from the nearest MRT. Digging deeper, we see that these are the cluster of shophouse HDBs in Changi Village, where the nearest MRT is Changi Airport.\n",
        "* Compared to the distance to MRT and mall, the distance to CBD feature is very distinct- closer towns are clearly valued in a higher tier compared to more distant towns."
      ]
    },
    {
      "cell_type": "code",
      "metadata": {
        "id": "l54Q3tET0cKd"
      },
      "source": [
        "# import plotly.express as px\n",
        "# fig = px.scatter(df_complete,\n",
        "#                  x='distance_to_mrt', \n",
        "#                  y='resale_price',\n",
        "#                  color='town',\n",
        "#                  title='HDB Resale PSM vs Distance to MRT')\n",
        "# fig.show()\n",
        "# fig = px.scatter(df_complete,\n",
        "#                  x='distance_to_mall', \n",
        "#                  y='resale_price',\n",
        "#                  color='town',\n",
        "#                  title='HDB Resale PSM vs Distance to Mall')\n",
        "# fig.show()\n",
        "# fig = px.scatter(df_complete,\n",
        "#                  x='distance_to_cbd', \n",
        "#                  y='resale_price',\n",
        "#                  color='town',\n",
        "#                  title='HDB Resale PSM vs Distance to CBD')\n",
        "# fig.show()"
      ],
      "execution_count": 31,
      "outputs": []
    },
    {
      "cell_type": "markdown",
      "metadata": {
        "id": "J74d-jGUDlgI"
      },
      "source": [
        "**Observations:**\n",
        "* `floor_area_sqm`: There are some outliers that have extremely large floor areas. These could be jumbo flats comprising 3 and 4 room flats connected together.\n",
        "* `remaining_lease`: The resale value of a flat drops at the 87 year mark, remains relatively stable until the 65 year mark, then encounters a steep decline as the flat ages.\n",
        "* `Year`: There is a gradual increase in average flat price over the years."
      ]
    },
    {
      "cell_type": "code",
      "metadata": {
        "id": "Z03aSgvsbhMX"
      },
      "source": [
        "# # Plotting numerical features with polynomial order to detect outliers by eye.\n",
        "# srt_reg('resale_price', df_complete)"
      ],
      "execution_count": 32,
      "outputs": []
    },
    {
      "cell_type": "markdown",
      "metadata": {
        "id": "izYPzY2vCoyw"
      },
      "source": [
        "####**Categorical Features**\n",
        "\n",
        "Observations:\n",
        "\n",
        "* `flat_type`: While the median prices for Multi-Generation and Executive are higher, the highest prices are contributed by 5-Room flats. This is due to the termination of the Executive Apartment model, and only Multi-Gen, 5 room, 4 room, 3 room and 2 room models are newly built. EAs are aging and will depreciate over time. Also, there are very few Multi-Gen transaction in Singapore due to restrictions on buying and selling (Multi-Gen owners can only sell to Mult-Gen families). Also, we find the following association for new flats:\n",
        "    *  5 Room: 'Improved'\n",
        "    *  4 Room: 'Model A'\n",
        "    *  3 Room: 'Model A'\n",
        "    *  2 Room: '2-room'\n"
      ]
    },
    {
      "cell_type": "code",
      "metadata": {
        "id": "YNBG5nDsbjw2"
      },
      "source": [
        "# srt_box('resale_price', df_complete, ['street_name','address'])"
      ],
      "execution_count": 33,
      "outputs": []
    },
    {
      "cell_type": "markdown",
      "metadata": {
        "id": "6k0Wp7MIJQHZ"
      },
      "source": [
        "###Distribution Analysis\n",
        "\n",
        "We know that some models fit well to data that are normally distributed. In this chapter, we explore the skewness and kurtosis of the numerical feature distributions in the dataset, and we perform log transformations on them if required."
      ]
    },
    {
      "cell_type": "markdown",
      "metadata": {
        "id": "0PJrG3rTFHGW"
      },
      "source": [
        "####**Numerical Features Histogram Plot**\n",
        "\n",
        "**Observations:**\n",
        "* Only a number of features seem to have a slightly normal distribution- `resale_price, storey, distance_to_mrt, distance_to_mall and distance_to_cbd`\n",
        "* The features have different scales, so we should apply a min-max scaler than observe them again.\n"
      ]
    },
    {
      "cell_type": "code",
      "metadata": {
        "id": "Ha6WLuoKJxFW"
      },
      "source": [
        "# def srt_histo(df, exclude_columns=[]):\n",
        "\n",
        "#     num_col_names = df.drop(columns=exclude_columns).select_dtypes(include=['number']).columns\n",
        "#     num_num = len(list(num_col_names))\n",
        "\n",
        "#     print(f'plotting columns: {num_col_names}')\n",
        "\n",
        "#     fig, axes = plt.subplots(num_num, 1, figsize=(20, 40))\n",
        "#     axes = axes.flatten()\n",
        "#     for i, j in zip(num_col_names, axes):\n",
        "#         sns.distplot(x=df[i],\n",
        "#                      ax=j,\n",
        "#                      axlabel=i\n",
        "#                      )\n",
        "\n",
        "\n",
        "# srt_histo(df_complete)"
      ],
      "execution_count": 34,
      "outputs": []
    },
    {
      "cell_type": "markdown",
      "metadata": {
        "id": "xuwcrYmSF3Pr"
      },
      "source": [
        "####**Numerical Features Histogram Plot - Post Log Transformation**"
      ]
    },
    {
      "cell_type": "code",
      "metadata": {
        "colab": {
          "base_uri": "https://localhost:8080/"
        },
        "id": "P6yqa73bAqHV",
        "outputId": "2ea473cf-0e2e-43b0-dcde-44f457663a7a"
      },
      "source": [
        "df_skew = df_complete.copy()\n",
        "skewed = ['storey', 'distance_to_mrt', 'distance_to_mall', 'distance_to_cbd']\n",
        "\n",
        "# Finding skewness of the numerical features.\n",
        "skew_features = np.abs(df_skew[skewed].apply(lambda x: skew(x)).sort_values(\n",
        "    ascending=False))\n",
        "\n",
        "print(skew_features)\n",
        "\n",
        "# # Taking indexes of high skew.\n",
        "skew_index = df_skew.index\n",
        "\n",
        "# Applying boxcox transformation to fix skewness.\n",
        "for feature in df_skew[skewed]:\n",
        "    df_skew[feature] = boxcox1p(df_skew[feature], boxcox_normmax(df_skew[feature] + 1))\n",
        "\n",
        "# srt_histo(df_skew)\n"
      ],
      "execution_count": 35,
      "outputs": [
        {
          "output_type": "stream",
          "text": [
            "storey              1.576259\n",
            "distance_to_mall    0.875382\n",
            "distance_to_mrt     0.827655\n",
            "distance_to_cbd     0.503589\n",
            "dtype: float64\n"
          ],
          "name": "stdout"
        }
      ]
    },
    {
      "cell_type": "markdown",
      "metadata": {
        "id": "gfoKfYzP-Qkc"
      },
      "source": [
        "####**Numerical Features Histogram Plot - Post Min-Max Scaling**"
      ]
    },
    {
      "cell_type": "code",
      "metadata": {
        "colab": {
          "base_uri": "https://localhost:8080/"
        },
        "id": "MK1yiYQY-PW1",
        "outputId": "7c463ab4-bd2d-44d4-ace5-61b1b011bd03"
      },
      "source": [
        "def scale_df(df, scaler_type=MinMaxScaler, exclude_columns=[]):\n",
        "    df_out = df.copy()\n",
        "    num_col_names = df.drop(columns=exclude_columns).select_dtypes(include=['number']).columns #select num_features\n",
        "    num_num = len(list(num_col_names))\n",
        "    for name in num_col_names:\n",
        "        print(f'scaling {name} feature:')\n",
        "        scaler = scaler_type()\n",
        "        df_out[name] = scaler.fit_transform(np.array(df[name]).reshape(-1, 1)) #scale numeric feature\n",
        "\n",
        "    return df_out\n",
        "\n",
        "df_scaled = scale_df(df_skew,MinMaxScaler,['resale_price'])\n",
        "# srt_histo(df_scaled)\n"
      ],
      "execution_count": 36,
      "outputs": [
        {
          "output_type": "stream",
          "text": [
            "scaling floor_area_sqm feature:\n",
            "scaling remaining_lease feature:\n",
            "scaling year feature:\n",
            "scaling storey feature:\n",
            "scaling latitude feature:\n",
            "scaling longitude feature:\n",
            "scaling distance_to_mrt feature:\n",
            "scaling distance_to_mall feature:\n",
            "scaling distance_to_cbd feature:\n"
          ],
          "name": "stdout"
        }
      ]
    },
    {
      "cell_type": "markdown",
      "metadata": {
        "id": "XKNZf172Fbfc"
      },
      "source": [
        "####**Target Variable Log Transformation**"
      ]
    },
    {
      "cell_type": "code",
      "metadata": {
        "id": "Bp3lPOxgEbw_"
      },
      "source": [
        "# def plot_dist3(df, feature, title):\n",
        "    \n",
        "#     # Creating a customized chart. and giving in figsize and everything.\n",
        "#     fig = plt.figure(constrained_layout=True, figsize=(12, 8))\n",
        "    \n",
        "#     # creating a grid of 3 cols and 3 rows.\n",
        "#     grid = gridspec.GridSpec(ncols=3, nrows=3, figure=fig)\n",
        "\n",
        "#     # Customizing the histogram grid.\n",
        "#     ax1 = fig.add_subplot(grid[0, :2])\n",
        "    \n",
        "#     # Set the title.\n",
        "#     ax1.set_title('Histogram')\n",
        "    \n",
        "#     # plot the histogram.\n",
        "#     sns.distplot(df.loc[:, feature],\n",
        "#                  hist=True,\n",
        "#                  kde=True,\n",
        "#                  fit=norm,\n",
        "#                  ax=ax1,\n",
        "#                  color='#e74c3c')\n",
        "#     ax1.legend(labels=['Normal', 'Actual'])\n",
        "\n",
        "#     # customizing the QQ_plot.\n",
        "#     ax2 = fig.add_subplot(grid[1, :2])\n",
        "    \n",
        "#     # Set the title.\n",
        "#     ax2.set_title('Probability Plot')\n",
        "\n",
        "#         # Plotting the QQ_Plot.\n",
        "#     stats.probplot(df.loc[:, feature].fillna(np.mean(df.loc[:, feature])),\n",
        "#                    plot=ax2)\n",
        "#     ax2.get_lines()[0].set_markerfacecolor('#e74c3c')\n",
        "#     ax2.get_lines()[0].set_markersize(12.0)\n",
        "\n",
        "#     # Customizing the Box Plot:\n",
        "    \n",
        "#     ax3 = fig.add_subplot(grid[:, 2])\n",
        "#     # Set title.\n",
        "    \n",
        "#     ax3.set_title('Box Plot')\n",
        "    \n",
        "#     # Plotting the box plot.\n",
        "    \n",
        "#     sns.boxplot(df.loc[:, feature], orient='v', ax=ax3, color='#e74c3c')\n",
        "#     ax3.yaxis.set_major_locator(MaxNLocator(nbins=24))\n",
        "\n",
        "#     plt.suptitle(f'{title}', fontsize=24)\n",
        "\n",
        "# plot_dist3(df_scaled, 'resale_price', 'Sale Price Before Log Transformation')"
      ],
      "execution_count": 37,
      "outputs": []
    },
    {
      "cell_type": "code",
      "metadata": {
        "id": "Rnqql8laE6dp"
      },
      "source": [
        "df_log = df_scaled.copy()\n",
        "df_log['log_resale_price'] = df_log['resale_price'].apply(lambda x: np.log1p(x)) #compute log(x+1), use np.expm1 for inversion later\n",
        "scaler = MinMaxScaler() #save this scaler for inversion later\n",
        "df_log['scaled_log_resale_price'] = scaler.fit_transform(np.array(df_log['log_resale_price']).reshape(-1, 1))\n",
        "# plot_dist3(df_log, 'log_resale_price', 'Resale Price After Log Transformation')\n",
        "# plot_dist3(df_log, 'scaled_log_resale_price', 'Resale Price After Min Max Scaled Log Transformation')\n",
        "\n",
        "# df_test = df_skew.copy()\n",
        "# df_test['inversed_resale_price'] = scaler.inverse_transform(np.array(df_test['scaled_log_resale_price']).reshape(-1, 1))\n",
        "# df_test['inversed_resale_price'] = df_test['inversed_resale_price'].apply(lambda x: np.expm1(x))\n",
        "# plot_dist3(df_test, 'inversed_resale_price', 'Sale Price After Inverse Transformation')\n",
        "\n"
      ],
      "execution_count": 38,
      "outputs": []
    },
    {
      "cell_type": "code",
      "metadata": {
        "colab": {
          "base_uri": "https://localhost:8080/",
          "height": 853
        },
        "id": "A9HS2q6zKvu9",
        "outputId": "69877165-a10d-4604-f83c-79ed32c436b7"
      },
      "source": [
        "display(df_log.head())\n",
        "print(df_log.info())"
      ],
      "execution_count": 39,
      "outputs": [
        {
          "output_type": "display_data",
          "data": {
            "text/html": [
              "<div>\n",
              "<style scoped>\n",
              "    .dataframe tbody tr th:only-of-type {\n",
              "        vertical-align: middle;\n",
              "    }\n",
              "\n",
              "    .dataframe tbody tr th {\n",
              "        vertical-align: top;\n",
              "    }\n",
              "\n",
              "    .dataframe thead th {\n",
              "        text-align: right;\n",
              "    }\n",
              "</style>\n",
              "<table border=\"1\" class=\"dataframe\">\n",
              "  <thead>\n",
              "    <tr style=\"text-align: right;\">\n",
              "      <th></th>\n",
              "      <th>town</th>\n",
              "      <th>flat_type</th>\n",
              "      <th>street_name</th>\n",
              "      <th>floor_area_sqm</th>\n",
              "      <th>flat_model</th>\n",
              "      <th>remaining_lease</th>\n",
              "      <th>resale_price</th>\n",
              "      <th>year</th>\n",
              "      <th>storey</th>\n",
              "      <th>address</th>\n",
              "      <th>latitude</th>\n",
              "      <th>longitude</th>\n",
              "      <th>nearest_mrt</th>\n",
              "      <th>distance_to_mrt</th>\n",
              "      <th>nearest_mall</th>\n",
              "      <th>distance_to_mall</th>\n",
              "      <th>distance_to_cbd</th>\n",
              "      <th>log_resale_price</th>\n",
              "      <th>scaled_log_resale_price</th>\n",
              "    </tr>\n",
              "  </thead>\n",
              "  <tbody>\n",
              "    <tr>\n",
              "      <th>0</th>\n",
              "      <td>ANG MO KIO</td>\n",
              "      <td>2 ROOM</td>\n",
              "      <td>ANG MO KIO AVE 10</td>\n",
              "      <td>0.059633</td>\n",
              "      <td>Improved</td>\n",
              "      <td>0.320755</td>\n",
              "      <td>232000.0</td>\n",
              "      <td>0.0</td>\n",
              "      <td>0.410202</td>\n",
              "      <td>406 ANG MO KIO AVE 10</td>\n",
              "      <td>0.490783</td>\n",
              "      <td>0.556854</td>\n",
              "      <td>Lorong Chuan</td>\n",
              "      <td>0.761153</td>\n",
              "      <td>AMK Hub</td>\n",
              "      <td>0.578383</td>\n",
              "      <td>0.263440</td>\n",
              "      <td>12.354497</td>\n",
              "      <td>0.230044</td>\n",
              "    </tr>\n",
              "    <tr>\n",
              "      <th>1</th>\n",
              "      <td>ANG MO KIO</td>\n",
              "      <td>3 ROOM</td>\n",
              "      <td>ANG MO KIO AVE 4</td>\n",
              "      <td>0.165138</td>\n",
              "      <td>New Generation</td>\n",
              "      <td>0.301887</td>\n",
              "      <td>250000.0</td>\n",
              "      <td>0.0</td>\n",
              "      <td>0.080003</td>\n",
              "      <td>108 ANG MO KIO AVE 4</td>\n",
              "      <td>0.538659</td>\n",
              "      <td>0.504338</td>\n",
              "      <td>Ang Mo Kio</td>\n",
              "      <td>0.230173</td>\n",
              "      <td>AMK Hub</td>\n",
              "      <td>0.636129</td>\n",
              "      <td>0.317642</td>\n",
              "      <td>12.429220</td>\n",
              "      <td>0.264077</td>\n",
              "    </tr>\n",
              "    <tr>\n",
              "      <th>2</th>\n",
              "      <td>ANG MO KIO</td>\n",
              "      <td>3 ROOM</td>\n",
              "      <td>ANG MO KIO AVE 5</td>\n",
              "      <td>0.165138</td>\n",
              "      <td>New Generation</td>\n",
              "      <td>0.339623</td>\n",
              "      <td>262000.0</td>\n",
              "      <td>0.0</td>\n",
              "      <td>0.080003</td>\n",
              "      <td>602 ANG MO KIO AVE 5</td>\n",
              "      <td>0.590971</td>\n",
              "      <td>0.495732</td>\n",
              "      <td>Ang Mo Kio</td>\n",
              "      <td>0.722265</td>\n",
              "      <td>AMK Hub</td>\n",
              "      <td>0.816182</td>\n",
              "      <td>0.376219</td>\n",
              "      <td>12.476104</td>\n",
              "      <td>0.285430</td>\n",
              "    </tr>\n",
              "    <tr>\n",
              "      <th>3</th>\n",
              "      <td>ANG MO KIO</td>\n",
              "      <td>3 ROOM</td>\n",
              "      <td>ANG MO KIO AVE 10</td>\n",
              "      <td>0.169725</td>\n",
              "      <td>New Generation</td>\n",
              "      <td>0.339623</td>\n",
              "      <td>265000.0</td>\n",
              "      <td>0.0</td>\n",
              "      <td>0.195190</td>\n",
              "      <td>465 ANG MO KIO AVE 10</td>\n",
              "      <td>0.513261</td>\n",
              "      <td>0.567819</td>\n",
              "      <td>Lorong Chuan</td>\n",
              "      <td>0.804087</td>\n",
              "      <td>AMK Hub</td>\n",
              "      <td>0.587337</td>\n",
              "      <td>0.286721</td>\n",
              "      <td>12.487489</td>\n",
              "      <td>0.290616</td>\n",
              "    </tr>\n",
              "    <tr>\n",
              "      <th>4</th>\n",
              "      <td>ANG MO KIO</td>\n",
              "      <td>3 ROOM</td>\n",
              "      <td>ANG MO KIO AVE 5</td>\n",
              "      <td>0.165138</td>\n",
              "      <td>New Generation</td>\n",
              "      <td>0.339623</td>\n",
              "      <td>265000.0</td>\n",
              "      <td>0.0</td>\n",
              "      <td>0.000000</td>\n",
              "      <td>601 ANG MO KIO AVE 5</td>\n",
              "      <td>0.592752</td>\n",
              "      <td>0.494951</td>\n",
              "      <td>Ang Mo Kio</td>\n",
              "      <td>0.732662</td>\n",
              "      <td>AMK Hub</td>\n",
              "      <td>0.824558</td>\n",
              "      <td>0.378429</td>\n",
              "      <td>12.487489</td>\n",
              "      <td>0.290616</td>\n",
              "    </tr>\n",
              "  </tbody>\n",
              "</table>\n",
              "</div>"
            ],
            "text/plain": [
              "         town flat_type  ... log_resale_price  scaled_log_resale_price\n",
              "0  ANG MO KIO    2 ROOM  ...        12.354497                 0.230044\n",
              "1  ANG MO KIO    3 ROOM  ...        12.429220                 0.264077\n",
              "2  ANG MO KIO    3 ROOM  ...        12.476104                 0.285430\n",
              "3  ANG MO KIO    3 ROOM  ...        12.487489                 0.290616\n",
              "4  ANG MO KIO    3 ROOM  ...        12.487489                 0.290616\n",
              "\n",
              "[5 rows x 19 columns]"
            ]
          },
          "metadata": {
            "tags": []
          }
        },
        {
          "output_type": "stream",
          "text": [
            "<class 'pandas.core.frame.DataFrame'>\n",
            "Int64Index: 98799 entries, 0 to 98798\n",
            "Data columns (total 19 columns):\n",
            " #   Column                   Non-Null Count  Dtype  \n",
            "---  ------                   --------------  -----  \n",
            " 0   town                     98799 non-null  object \n",
            " 1   flat_type                98799 non-null  object \n",
            " 2   street_name              98799 non-null  object \n",
            " 3   floor_area_sqm           98799 non-null  float64\n",
            " 4   flat_model               98799 non-null  object \n",
            " 5   remaining_lease          98799 non-null  float64\n",
            " 6   resale_price             98799 non-null  float64\n",
            " 7   year                     98799 non-null  float64\n",
            " 8   storey                   98799 non-null  float64\n",
            " 9   address                  98799 non-null  object \n",
            " 10  latitude                 98799 non-null  float64\n",
            " 11  longitude                98799 non-null  float64\n",
            " 12  nearest_mrt              98799 non-null  object \n",
            " 13  distance_to_mrt          98799 non-null  float64\n",
            " 14  nearest_mall             98799 non-null  object \n",
            " 15  distance_to_mall         98799 non-null  float64\n",
            " 16  distance_to_cbd          98799 non-null  float64\n",
            " 17  log_resale_price         98799 non-null  float64\n",
            " 18  scaled_log_resale_price  98799 non-null  float64\n",
            "dtypes: float64(12), object(7)\n",
            "memory usage: 15.1+ MB\n",
            "None\n"
          ],
          "name": "stdout"
        }
      ]
    },
    {
      "cell_type": "markdown",
      "metadata": {
        "id": "aS_zCMRuKV-o"
      },
      "source": [
        "##Modelling\n"
      ]
    },
    {
      "cell_type": "markdown",
      "metadata": {
        "id": "Xo-l-0mhEJp5"
      },
      "source": [
        "#####Features"
      ]
    },
    {
      "cell_type": "markdown",
      "metadata": {
        "id": "dWZYne2xEBRU"
      },
      "source": [
        "We will attempt to use stacking methods to improve the regression performance. Below is the list of models we can consider as our heterogeneous learners:\n",
        "\n",
        "* Ridge\n",
        "* Lasso\n",
        "* Elasticnet\n",
        "* SVM\n",
        "* Gradient Boosting\n",
        "* LightGBM\n",
        "* XGBoost\n",
        "\n",
        "We have some categorical features that have a large number of categories. For instance, `address` has 9044 unique categories, while `street_name` has 552. Applying one-hot encoding to them significantly increases the dimensionality of the input features and most models will not work with such high dimensional inputs.\n"
      ]
    },
    {
      "cell_type": "code",
      "metadata": {
        "colab": {
          "base_uri": "https://localhost:8080/"
        },
        "id": "2UCQeq5kb2dB",
        "outputId": "57ad09c1-dae3-4c33-80fe-a42a121ea09d"
      },
      "source": [
        "def show_feature_dimensionality(df):\n",
        "    cat_col_names = df.select_dtypes(include=['object']).columns\n",
        "    for feature in cat_col_names:\n",
        "        print(f'{feature}: {df[feature].nunique()}')\n",
        "show_feature_dimensionality(df_log)"
      ],
      "execution_count": 40,
      "outputs": [
        {
          "output_type": "stream",
          "text": [
            "town: 26\n",
            "flat_type: 7\n",
            "street_name: 552\n",
            "flat_model: 20\n",
            "address: 9044\n",
            "nearest_mrt: 127\n",
            "nearest_mall: 80\n"
          ],
          "name": "stdout"
        }
      ]
    },
    {
      "cell_type": "markdown",
      "metadata": {
        "id": "Y9D8QqgNc-Wk"
      },
      "source": [
        "Our plan is to utilise embeddings to reduce the input size and better represent these categorical features.\n",
        "\n",
        "1. Tokenize categories for each feature and construct an embedding matrix for each feature.\n",
        "2. Attach the embedding matrix to a two layer Dense network, and train towards an MSE loss function\n",
        "3. Detach the embedding matrix and freeze the weights\n",
        "4. Attach frozen embedding matrix to the list of regressors as inputs, then continue with stacking."
      ]
    },
    {
      "cell_type": "markdown",
      "metadata": {
        "id": "-jvhemG8en-q"
      },
      "source": [
        "**Categorical Features**\n",
        "* `town`\n",
        "* `flat_type`\n",
        "* `street_name`\n",
        "* `flat_model`\n",
        "* `address`\n",
        "* `nearest_mrt`\n",
        "* `nearest_mall`\n",
        "\n",
        "**Numerical Features**\n",
        "* `floor_area_sqm`\n",
        "* `remaining_lease`\n",
        "* `year`\n",
        "* `storey`\n",
        "* `latitude`\n",
        "* `longitude`\n",
        "* `distance_to_mrt`\n",
        "* `distance_to_cbd`\n",
        "* `distance_to_mall`\n",
        "\n",
        "**Target Feature**\n",
        "* `scaled_log_resale_price`"
      ]
    },
    {
      "cell_type": "markdown",
      "metadata": {
        "id": "BJaroRdl0VPg"
      },
      "source": [
        "#####Logs\n"
      ]
    },
    {
      "cell_type": "markdown",
      "metadata": {
        "id": "avZIsSq6cj_9"
      },
      "source": [
        "Here's a log of the experiments we have tried with the embedding-dense model:\n",
        "\n",
        "* The model MAE remains at 20-23k when embedding dimensions are reduced from 32 dim down to 1 dim. This suggests that the model has not found useful embedding representations.\n",
        "* What if we remove the numerical features, and force the model to predict purely based on categorical features?\n",
        "* Excluding numerical features, a run of epoch=10 gives us MAE of 32k. This tells us that the model is indeed starting to learn good representations. The validation loss is higher than train loss, so perhaps we can train for more epochs and see if the MAE can be even lower. If training purely on categorical features work, we can treat it as a pre-training step, and include numerical inptus when finetuning.\n",
        "* We will next try 1) running more epochs, 2) see the effect of reducing embed dims.\n",
        "* Running 50 epochs, the MAE lowers to 28.9k. Training loss is still on a gradual decline, and validation loss is also decreasing (has not exceeded train loss). This means we can run for more epochs (200) to see if we can get better results.\n",
        "* Running 200 epochs gives an MAE of 27.9k. Loss is decreasing very slowly at this point, and MAE is almost stagnant. Surprisingly, validation loss has not increased. Perhaps we could try increasing the capacity of the model (embed_dims and dense nodes), see if it is able to overfit the data.\n",
        "* Oops, we have been running the past experiments with embed_dims = 1. Im surprised that the model can even learn anything. Now we increase embed_dims to 8, and see if we reduce MAE or overfit the data.\n",
        "* Increasing to embed_dims = 8 with 200 epochs gives an MAE of 30k. Training and validation loss seems to plateau, but theres no clear signs of overfitting. Perhaps we can double embed_dims and Dense nodes to see if it is the bottleneck. Then again it could be possible that the model is already optimal, and batch_norm and batch_size are helping to prevent severe overfitting.\n",
        "* Doubling embed_dims and Dense nodes dont seek to make much of a difference, MAE is around 28.9k. Guess theres not much else to learn from the data, increasing capacity does not lead to overfitting nor lower losses, and losses plateau before epoch 100. This could mean we have already optimised the embedding representations.\n",
        "* Now there are 3 things to find out. 1) What is the baseline performance for numerical data, when categorical data is removed. 2) Does MAE improve if we reintroduce numerical data with these pretrained embeddings, 3) Which is better? To freeze embedding layer training or continue embedding layer training when numerical features are added?\n",
        "* Using numerical data alone for 100 epochs gives us 25k MAE.\n",
        "* We try removing batchnorm layers and increase model capacity to 200 nodes/layer and 3 Dense layers to encourage overfitting. Model attains a new lowest loss of 0.0010, and a MAE of 24.4k. It is still not overfitting at this point since val MAE is at 0.0010 as well. We will try training 200 epochs to see how much lower we can go.\n",
        "* Pushing it to 200 epochs, we arrive at a loss plateau of 23.3k MAE.Next, lets try to do the same for purely categorical features.\n",
        "* Using purely categorical features, we manage to achieve clear overfitting. MAE remains at 28k, and val loss is at 0.0014. train loss is however at 0.0010. Let's try training both numerical and categorical features together next, see how low we can overfit this time.\n",
        "* With both categorical and numerical features, we achieve a lowest MAE of $21k. However there is severe overfitting at epoch 200. Train loss goes down to 2.4e-4 and val loss goes down to 8.87e-4.\n",
        "* Now we try pretraining on categorical features first, freeze the weights, then train with numerical features."
      ]
    },
    {
      "cell_type": "markdown",
      "metadata": {
        "id": "I8cp2yM10bZo"
      },
      "source": [
        "#####Embedder Class"
      ]
    },
    {
      "cell_type": "code",
      "metadata": {
        "id": "OBecxxjQww49"
      },
      "source": [
        "class Embedder:\n",
        "    def __init__(self, neptune_runner=None, scaler=None, embedding_dim=8):\n",
        "        self.model = None   # post-fit model\n",
        "        self.history = None # post-fit training history \n",
        "        self.encoders = None # encoders applied on categorical features\n",
        "        self.scaler = scaler # scaler applied on target variable\n",
        "        self.embedding_dim = embedding_dim\n",
        "        self.X_test_dict = None\n",
        "        self.Y_test = None\n",
        "        self.embedding_weights = None\n",
        "        self.neptune_runner = neptune_runner\n",
        "    \n",
        "    def fit(self, X, Y, batch_size=64, epochs=100, use_numerical=True, use_batch_norm=True):\n",
        "\n",
        "        if self.neptune_runner is not None: #do logging only if neptune runner is provided\n",
        "            run = self.neptune_runner\n",
        "            logger = self.NeptuneLogger()\n",
        "            run['parameters/epochs'] = epochs\n",
        "            run['parameters/batch_size'] = batch_size\n",
        "            run['parameters/embedding_dim'] = self.embedding_dim\n",
        "            run['parameters/use_numerical'] = use_numerical\n",
        "            run['parameters/use_batch_norm'] = use_batch_norm\n",
        "\n",
        "        df_X = X.copy()\n",
        "        df_Y = Y.copy()\n",
        "\n",
        "        X_train_num, X_train_cat, X_test_num, X_test_cat, Y_train, Y_test, X_train_dict, X_test_dict = self.__preprocess_data(df_X, df_Y)\n",
        "\n",
        "        self.X_test_dict = X_test_dict\n",
        "        self.Y_test = Y_test\n",
        "\n",
        "        print(f'Fitting embedder...')\n",
        "        print(f'Training Set Size: {len(X_train_cat)}')\n",
        "        print(f'Test Set Size: {len(X_test_cat)}')\n",
        "\n",
        "        # prepare model\n",
        "        tf.keras.backend.clear_session()\n",
        "        embedding_out = [] \n",
        "        inputs = []\n",
        "        embedding_dim = self.embedding_dim\n",
        "\n",
        "        # ingest encoded categorical features to embedded network\n",
        "        for category in X_train_cat:\n",
        "            # Encode over the full dataset to avoid having to deal with oov issues\n",
        "            vocab_size = df_X[category].nunique() \n",
        "            \n",
        "            # Build embedding layers\n",
        "            input_cat = tf.keras.layers.Input(shape=(1,), name='input_'+str(category)) #this is to link feature to input later\n",
        "            embed = tf.keras.layers.Embedding(vocab_size, embedding_dim, trainable=True, embeddings_initializer=tf.initializers.random_normal())(input_cat)\n",
        "            embed_reshaped = tf.keras.layers.Reshape(target_shape=(embedding_dim,))(embed)\n",
        "            embedding_out.append(embed_reshaped) #consolidate the embedding outputs in a list\n",
        "\n",
        "            #consolidate input feeds in a list\n",
        "            inputs.append(input_cat) \n",
        "\n",
        "        # ingest numeric features to network\n",
        "        if use_numerical:\n",
        "            input_num = tf.keras.layers.Input(shape=len(X_train_num.columns), name='input_numerical')\n",
        "            embedding_out.append(input_num)\n",
        "            inputs.append(input_num)\n",
        "\n",
        "        # concatenate numerical and categorical input models\n",
        "        merged_inputs = tf.keras.layers.concatenate(embedding_out)\n",
        "\n",
        "        # add fully connected layers\n",
        "        d = tf.keras.layers.Dense(200, activation='relu')(merged_inputs)\n",
        "        if use_batch_norm:\n",
        "            d = tf.keras.layers.BatchNormalization()(d) #batch norms helps prevent overfit\n",
        "        d = tf.keras.layers.Dense(200, activation='relu')(d)\n",
        "        if use_batch_norm:\n",
        "            d = tf.keras.layers.BatchNormalization()(d)\n",
        "        d = tf.keras.layers.Dense(200, activation='relu')(d)\n",
        "        output = tf.keras.layers.Dense(1, activation='sigmoid')(d) #sigmoid for regression\n",
        "\n",
        "        model = tf.keras.models.Model(inputs=inputs, outputs=output) #define where the model begins and ends\n",
        "\n",
        "        # compile model\n",
        "        optimizer = tf.keras.optimizers.Adam(lr=1e-2)\n",
        "        model.compile(loss='mse', optimizer=optimizer, metrics=['mae'])\n",
        "\n",
        "        # prepare model visualisation\n",
        "        # print(model.summary())\n",
        "        # dot_img_file = 'model.png'\n",
        "        # tf.keras.utils.plot_model(model, to_file=dot_img_file, show_shapes=True)\n",
        "\n",
        "        #fit model\n",
        "        history = model.fit(X_train_dict, \n",
        "                            Y_train, \n",
        "                            epochs=epochs, \n",
        "                            batch_size=batch_size, #batching helps prevent overfit\n",
        "                            validation_data=(X_test_dict, Y_test), \n",
        "                            verbose=2,\n",
        "                            callbacks=[logger]\n",
        "                            )\n",
        "\n",
        "        # Extract weights from embedding layers\n",
        "        embedding_weights = []\n",
        "        for layer in model.layers:\n",
        "            if('embedding' in layer.name):\n",
        "                embedding_weights.append(layer.get_weights())\n",
        "\n",
        "        with open(drive_path+'embeddings.pickle', 'wb') as f:\n",
        "            pickle.dump(embedding_weights, f)\n",
        "        \n",
        "        self.embedding_weights = embedding_weights\n",
        "        self.model = model\n",
        "        self.history = history\n",
        "        return\n",
        "\n",
        "    def transform(self, X):\n",
        "        print('Transforming inputs...')\n",
        "        df_X = X.copy()\n",
        "\n",
        "        #transform maps the inputs to the concatenated embedding_out layer.\n",
        "        X_num, X_cat, X_dict = self.__preprocess_data(df_X)\n",
        "        \n",
        "        # prepare model\n",
        "        embedding_dim = self.embedding_dim\n",
        "        embedding_out = [] \n",
        "        inputs = []\n",
        "\n",
        "        #load pretrained weights\n",
        "        if (self.embedding_weights is None):\n",
        "            print('Loading weights from pretrained model...')\n",
        "            with open(drive_path+'embeddings.pickle', 'rb') as f:\n",
        "                weights = pickle.load(f) \n",
        "        else:\n",
        "            weights = self.embedding_weights   \n",
        "\n",
        "        # ingest encoded categorical features to embedded network\n",
        "        for index, category in enumerate(X_cat):\n",
        "            # Encode over the full dataset to avoid having to deal with oov issues\n",
        "            vocab_size = df_X[category].nunique() \n",
        "            \n",
        "            # Build embedding layers\n",
        "            input_cat = tf.keras.layers.Input(shape=(1,), name='input_'+str(category)) #this is to link feature to input later\n",
        "            embed = tf.keras.layers.Embedding(vocab_size, embedding_dim, weights=weights[index], trainable=False, embeddings_initializer=tf.initializers.random_normal())(input_cat)\n",
        "            embed_flat = tf.keras.layers.Reshape(target_shape=(embedding_dim,))(embed)\n",
        "            embedding_out.append(embed_flat) #consolidate the embedding outputs in a list\n",
        "\n",
        "            #consolidate input feeds in a list\n",
        "            inputs.append(input_cat) \n",
        "\n",
        "        # # ingest numeric features to network\n",
        "        input_num = tf.keras.layers.Input(shape=len(X_num.columns), name='input_numerical')\n",
        "        embedding_out.append(input_num)\n",
        "        inputs.append(input_num)\n",
        "\n",
        "        # concatenate numerical and categorical input models\n",
        "        output = tf.keras.layers.concatenate(embedding_out)\n",
        "        model = tf.keras.models.Model(inputs=inputs, outputs=output) #define where the model begins and ends\n",
        "\n",
        "        #transform df_X to embedded form\n",
        "        out = model.predict(X_dict) \n",
        "        df_out = pd.DataFrame(out)\n",
        "        return df_out\n",
        "\n",
        "    def fit_transform(self, X, Y,batch_size=64, epochs=1, embedding_dim=8):\n",
        "        df_X = X.copy()\n",
        "        df_Y = Y.copy()\n",
        "        self.fit(df_X, df_Y, batch_size, epochs, embedding_dim)\n",
        "        return self.transform(df_X)\n",
        "\n",
        "    def predict(self, X_test):\n",
        "        return self.transform(X_test)\n",
        "\n",
        "    def __preprocess_data(self,X,Y=None):\n",
        "        df_X = X.copy()\n",
        "        # encode categorical features - common to fit() and transform()\n",
        "        encoders = []\n",
        "        df_cat = df_X.select_dtypes(include=['object'])\n",
        "        for feature in df_cat:\n",
        "            encoder = LabelEncoder()\n",
        "            df_X[feature] = encoder.fit_transform(df_X[feature])\n",
        "            encoder_dict = {    \n",
        "                'name': feature,\n",
        "                'feature_encoder': encoder\n",
        "            }\n",
        "            encoders.append(encoder_dict)\n",
        "        self.encoders = encoders #store encoders for reconstruction later\n",
        "\n",
        "        if Y is None: # preprocessing for transform()\n",
        "            X_num = df_X.select_dtypes(include=['float64'])\n",
        "            X_cat = df_X.select_dtypes(include=['int64'])\n",
        "            X_dict = {}\n",
        "\n",
        "            #feed categorical inputs to model inputs\n",
        "            for category in X_cat:\n",
        "                X_dict['input_'+category] = X_cat[category]\n",
        "\n",
        "            #feed numerical inputs to model inputs\n",
        "            X_dict['input_numerical'] = X_num\n",
        "\n",
        "            return X_num, X_cat, X_dict\n",
        "\n",
        "        else: # preprocessing for fit() \n",
        "            df_Y = Y.copy()\n",
        "\n",
        "            # split train test sets and seperate by numerical and categorical features\n",
        "            X_train, X_test, Y_train, Y_test = train_test_split(df_X, df_Y, test_size=0.2)\n",
        "            X_train_num = X_train.select_dtypes(include=['float64'])\n",
        "            X_train_cat = X_train.select_dtypes(include=['int64'])\n",
        "            X_test_num = X_test.select_dtypes(include=['float64'])\n",
        "            X_test_cat = X_test.select_dtypes(include=['int64'])\n",
        "\n",
        "            X_train_dict = {}\n",
        "            X_test_dict = {}\n",
        "            #feed categorical inputs to model inputs\n",
        "            for category in X_train_cat:\n",
        "                X_train_dict['input_'+category] = X_train_cat[category]\n",
        "                X_test_dict['input_'+category] = X_test_cat[category]\n",
        "\n",
        "            #feed numerical inputs to model inputs\n",
        "            X_train_dict['input_numerical'] = X_train_num\n",
        "            X_test_dict['input_numerical'] = X_test_num\n",
        "\n",
        "            return X_train_num, X_train_cat, X_test_num, X_test_cat, Y_train, Y_test, X_train_dict, X_test_dict\n",
        "\n",
        "    class NeptuneLogger(Callback):\n",
        "        def on_batch_end(self, batch, logs={}):\n",
        "            for log_name, log_value in logs.items():\n",
        "                run['batch/{}'.format(log_name)].log(log_value)\n",
        "\n",
        "        def on_epoch_end(self, epoch, logs={}):\n",
        "            for log_name, log_value in logs.items():\n",
        "                run['epoch/{}'.format(log_name)].log(log_value)\n",
        "\n",
        "    # def projector(self):\n",
        "    #     for index, encoder in enumerate(self.encoders): #for each categorical feature\n",
        "    #         category = encoder['name']\n",
        "    #         out_v = io.open(category+'_vecs.tsv', 'w', encoding='utf-8')\n",
        "    #         out_m = io.open(category+'_meta.tsv', 'w', encoding='utf-8')\n",
        "    #         vocab_size = np.array(self.embedding_weights[index]).shape[1]\n",
        "    #         word_indexes = np.arange(vocab_size)\n",
        "    #         words = encoder['feature_encoder'].inverse_transform(word_indexes)\n",
        "\n",
        "    #         for idx, word in enumerate(words):\n",
        "    #             embeddings = np.array(self.embedding_weights[index][0][idx])\n",
        "    #             out_m.write(word + \"\\n\")\n",
        "    #             out_v.write('\\t'.join([str(x) for x in embeddings]) + \"\\n\")\n",
        "\n",
        "    #         out_v.close()\n",
        "    #         out_m.close()\n",
        "    #     print('Projection .tsv files updated.')\n",
        "    #     return\n",
        "\n",
        "    def plot_losses(self):\n",
        "        if self.history is None:\n",
        "            print('Error: Embedder has not been fitted.')\n",
        "            return\n",
        "\n",
        "        print('Plotting training loss...')\n",
        "        history = self.history\n",
        "        mae=history.history['mae']\n",
        "        val_mae=history.history['val_mae']\n",
        "        loss=history.history['loss']\n",
        "        val_loss=history.history['val_loss']\n",
        "\n",
        "        fig, axes = plt.subplots(1, 2, figsize=(15, 5))\n",
        "        epochs=range(len(loss)) # Get number of epochs\n",
        "\n",
        "        plt.plot(epochs, mae, 'r')\n",
        "        plt.plot(epochs, val_mae, 'b')\n",
        "        plt.title('Training and validation MAE')\n",
        "        plt.xlabel(\"Epochs\")\n",
        "        plt.ylabel(\"MAE\")\n",
        "        plt.legend([\"MAE\", \"Validation MAE\"])\n",
        "        plt.axes(axes[0])\n",
        "\n",
        "        plt.plot(epochs, loss, 'r')\n",
        "        plt.plot(epochs, val_loss, 'b')\n",
        "        plt.title('Training and validation loss')\n",
        "        plt.xlabel(\"Epochs\")\n",
        "        plt.ylabel(\"Loss\")\n",
        "        plt.legend([\"Loss\", \"Validation Loss\"])\n",
        "        plt.axes(axes[1])\n",
        "        plt.figure()\n",
        "        return\n",
        "\n",
        "    def plot_metrics(self):\n",
        "        if (self.X_test_dict is None) or (self.Y_test is None) or (self.model is None):\n",
        "            print('Error: Embedder has not been fitted.')\n",
        "            return \n",
        "\n",
        "        print('Plotting training metrics...')\n",
        "        # Check prediction performance\n",
        "        Y_pred = self.model.predict(self.X_test_dict)\n",
        "\n",
        "        # Inverse scaling and log transformations\n",
        "        Y_pred_inv = np.expm1(self.scaler.inverse_transform(Y_pred))\n",
        "        Y_test_inv = np.expm1(self.scaler.inverse_transform(self.Y_test.to_numpy().reshape(-1, 1)))\n",
        "        mae = int(mean_absolute_error(Y_test_inv, Y_pred_inv))\n",
        "        print(f'MAE: S${mae}')\n",
        "\n",
        "        fig = plt.figure(figsize=(15,5))\n",
        "        plt.title(\"Actual vs predicted housing prices\")\n",
        "        plt.xlabel(\"Actual Price\")\n",
        "        plt.ylabel(\"Predicted Price\")\n",
        "        plt.scatter(x=Y_test_inv, y=Y_pred_inv, c='b', label=\"NN\")\n",
        "        plt.legend(loc='upper left')\n",
        "        plt.show()\n",
        "\n",
        "        if self.neptune_runner is not None: #do logging only if neptune runner is provided\n",
        "            run = self.neptune_runner\n",
        "            run['test/mae'] = mae\n",
        "            run['test/scatter_chart'].log(neptune.types.File.as_image(fig))\n",
        "        \n",
        "        return mae"
      ],
      "execution_count": 41,
      "outputs": []
    },
    {
      "cell_type": "markdown",
      "metadata": {
        "id": "-IUqc2Rc0jCy"
      },
      "source": [
        "#####Fit Embedder\n",
        "\n",
        "\n"
      ]
    },
    {
      "cell_type": "code",
      "metadata": {
        "colab": {
          "base_uri": "https://localhost:8080/"
        },
        "id": "SiZnVqI6l23a",
        "outputId": "35be626e-ad53-4b4d-89d9-8ba20183216d"
      },
      "source": [
        "with open(drive_path+'neptune_api_token.pickle', 'rb') as f:\n",
        "    api_token = pickle.load(f)\n",
        "\n",
        "run = neptune.init(project=\"leejielong/hdbnet-embedder\", api_token=api_token)\n",
        "# run[\"sys/name\"] = 'first-run' #describe current experiment\n",
        "run[\"sys/tags\"].add('embedder') #add tag to current experiment\n",
        "\n",
        "# log transform and scale resale price\n",
        "df_Y = df_log['scaled_log_resale_price']\n",
        "df_X = df_log.drop(columns=['scaled_log_resale_price','log_resale_price','resale_price'])\n",
        "\n",
        "embedder = Embedder(run, scaler=scaler)\n",
        "if not os.path.isfile(drive_path+'embeddings.pickle'):\n",
        "    embedder.fit(df_X, df_Y, batch_size=64, epochs=100, use_numerical=False) #fit needs to take in X and Y\n",
        "    embedder.plot_losses()\n",
        "    embedder.plot_metrics()\n",
        "df_out = embedder.transform(df_X)\n",
        "# embedder.projector()"
      ],
      "execution_count": 42,
      "outputs": [
        {
          "output_type": "stream",
          "text": [
            "Info (NVML): Driver Not Loaded. GPU usage metrics may not be reported. For more information, see https://docs-legacy.neptune.ai/logging-and-managing-experiment-results/logging-experiment-data.html#hardware-consumption \n"
          ],
          "name": "stderr"
        },
        {
          "output_type": "stream",
          "text": [
            "https://app.neptune.ai/leejielong/hdbnet-embedder/e/HDBEMBED-19\n",
            "Transforming inputs...\n",
            "Loading weights from pretrained model...\n"
          ],
          "name": "stdout"
        }
      ]
    },
    {
      "cell_type": "markdown",
      "metadata": {
        "id": "W3GgSPogivj6"
      },
      "source": [
        "#####Regressor Hyperparameter Tuning with Optuna"
      ]
    },
    {
      "cell_type": "markdown",
      "metadata": {
        "id": "Vk9_7vIEERO3"
      },
      "source": [
        "LightGBM Optimisation"
      ]
    },
    {
      "cell_type": "code",
      "metadata": {
        "id": "78o3SbSli2l8"
      },
      "source": [
        "# # Load neptune.ai api token\n",
        "# with open(drive_path+'neptune_api_token.pickle', 'rb') as f:\n",
        "#     api_token = pickle.load(f)\n",
        "\n",
        "# run = neptune.init(project=\"leejielong/hdbnet-regressor\", api_token=api_token)\n",
        "# # run[\"sys/name\"] = 'first-run' #describe current experiment\n",
        "# run[\"sys/tags\"].add('lightgbm') #add tag to current experiment\n",
        "# neptune_callback = optuna_utils.NeptuneCallback(run)\n",
        "\n",
        "# def objective(trial):\n",
        "        \n",
        "#     param = {\n",
        "#         'objective': 'regression',\n",
        "#         'metric': 'mean_absolute_error',\n",
        "#         'verbosity': -1,\n",
        "#         'boosting_type': 'gbdt',\n",
        "#         'lambda_l1': trial.suggest_loguniform('lambda_l1', 1e-8, 10.0),\n",
        "#         'lambda_l2': trial.suggest_loguniform('lambda_l2', 1e-8, 10.0),\n",
        "#         'num_leaves': trial.suggest_int('num_leaves', 2, 512),\n",
        "#         'learning_rate': 0.01,\n",
        "#         'n_estimators': trial.suggest_int('n_estimators', 700, 3000),\n",
        "#         'feature_fraction': trial.suggest_uniform('feature_fraction', 0.4, 1.0),\n",
        "#         'bagging_fraction': trial.suggest_uniform('bagging_fraction', 0.4, 1.0),\n",
        "#         'bagging_freq': trial.suggest_int('bagging_freq', 1, 7),\n",
        "#         'min_child_samples': trial.suggest_int('min_child_samples', 5, 100),\n",
        "#     }\n",
        "#     lgbm_regr = LGBMRegressor(**param)\n",
        "\n",
        "#     X_train, X_test, Y_train, Y_test = train_test_split(df_out, df_Y, test_size=0.2)\n",
        "#     gbm_2 = lgbm_regr.fit(X_train, Y_train, eval_set=[(X_test, Y_test)], verbose=False)\n",
        "#     y_test = np.expm1(scaler.inverse_transform(Y_test.to_numpy().reshape(-1, 1)))\n",
        "#     y_pred = np.expm1(scaler.inverse_transform(lgbm_regr.predict(X_test).reshape(-1,1)))\n",
        "#     return mean_absolute_error(y_test,y_pred)\n",
        "\n",
        "\n",
        "# study = optuna.create_study(direction='minimize')\n",
        "# study.optimize(objective, n_trials=100, callbacks=[neptune_callback])"
      ],
      "execution_count": 43,
      "outputs": []
    },
    {
      "cell_type": "markdown",
      "metadata": {
        "id": "aJJ_t_sOEVjV"
      },
      "source": [
        "XGBoost Optimisation"
      ]
    },
    {
      "cell_type": "code",
      "metadata": {
        "id": "FGwAK8DfEVE3"
      },
      "source": [
        "# # Load neptune.ai api token\n",
        "# with open(drive_path+'neptune_api_token.pickle', 'rb') as f:\n",
        "#     api_token = pickle.load(f)\n",
        "\n",
        "# run = neptune.init(project=\"leejielong/hdbnet-regressor\", api_token=api_token)\n",
        "# # run[\"sys/name\"] = 'first-run' #describe current experiment\n",
        "# run[\"sys/tags\"].add('xgboost') #add tag to current experiment\n",
        "# neptune_callback = optuna_utils.NeptuneCallback(run)\n",
        "\n",
        "# def objective(trial):\n",
        "        \n",
        "#     param ={'n_estimators': trial.suggest_int('n_estimators', 200, 3000),\n",
        "#             'max_depth':trial.suggest_int('max_depth', 2, 25),\n",
        "#             'min_child_weight':trial.suggest_int('min_child_weight', 0, 5),\n",
        "#             'subsample':trial.suggest_discrete_uniform('subsample', 0.5, 1, 0.05),\n",
        "#             'colsample_bytree':trial.suggest_discrete_uniform('colsample_bytree', 0.1, 1, 0.01),\n",
        "#             'nthread' : -1,\n",
        "#             'learning_rate':trial.suggest_loguniform('learning_rate',0.005,0.5),          \n",
        "#             }\n",
        "#     xgb_regr = XGBRegressor(**param)\n",
        "#     X_train, X_test, Y_train, Y_test = train_test_split(df_out, df_Y, test_size=0.2)\n",
        "#     xgb_2 = xgb_regr.fit(X_train, Y_train, eval_set=[(X_test, Y_test)], verbose=False)\n",
        "#     y_test = np.expm1(scaler.inverse_transform(Y_test.to_numpy().reshape(-1, 1)))\n",
        "#     y_pred = np.expm1(scaler.inverse_transform(xgb_regr.predict(X_test).reshape(-1,1)))\n",
        "#     return mean_absolute_error(y_test,y_pred)\n",
        "\n",
        "# study = optuna.create_study(direction='minimize')\n",
        "# study.optimize(objective, n_trials=100, callbacks=[neptune_callback])"
      ],
      "execution_count": 44,
      "outputs": []
    },
    {
      "cell_type": "markdown",
      "metadata": {
        "id": "jR5IyM7LomhT"
      },
      "source": [
        "GBR Optimisation"
      ]
    },
    {
      "cell_type": "code",
      "metadata": {
        "id": "RR9Edm2WopSM"
      },
      "source": [
        "# # Load neptune.ai api token\n",
        "# with open(drive_path+'neptune_api_token.pickle', 'rb') as f:\n",
        "#     api_token = pickle.load(f)\n",
        "\n",
        "# run = neptune.init(project=\"leejielong/hdbnet-regressor\", api_token=api_token)\n",
        "# # run[\"sys/name\"] = 'first-run' #describe current experiment\n",
        "# run[\"sys/tags\"].add('gradientboost') #add tag to current experiment\n",
        "# neptune_callback = optuna_utils.NeptuneCallback(run)\n",
        "\n",
        "# def objective(trial):\n",
        "        \n",
        "#     param ={'n_estimators': trial.suggest_int('n_estimators', 200, 3000),\n",
        "#             'learning_rate':trial.suggest_loguniform('learning_rate',0.005,0.5),          \n",
        "#             'max_depth':trial.suggest_int('max_depth', 2, 25),\n",
        "#             'max_features': 'sqrt',\n",
        "#             'min_samples_leaf': trial.suggest_int('min_samples_leaf', 2,100),\n",
        "#             'loss':'huber'\n",
        "#             }\n",
        "#     gbr_regr = GradientBoostingRegressor(**param)\n",
        "#     X_train, X_test, Y_train, Y_test = train_test_split(df_out, df_Y, test_size=0.2)\n",
        "#     gbr_2 = gbr_regr.fit(X_train, Y_train)\n",
        "#     y_test = np.expm1(scaler.inverse_transform(Y_test.to_numpy().reshape(-1, 1)))\n",
        "#     y_pred = np.expm1(scaler.inverse_transform(gbr_regr.predict(X_test).reshape(-1,1)))\n",
        "#     return mean_absolute_error(y_test,y_pred)\n",
        "\n",
        "# study = optuna.create_study(direction='minimize')\n",
        "# study.optimize(objective, n_trials=100, callbacks=[neptune_callback])"
      ],
      "execution_count": 45,
      "outputs": []
    },
    {
      "cell_type": "markdown",
      "metadata": {
        "id": "w6dCQ8Jsu-79"
      },
      "source": [
        "HGRD Optimisation"
      ]
    },
    {
      "cell_type": "code",
      "metadata": {
        "id": "09hhou52vB_R"
      },
      "source": [
        "# # Load neptune.ai api token\n",
        "# with open(drive_path+'neptune_api_token.pickle', 'rb') as f:\n",
        "#     api_token = pickle.load(f)\n",
        "\n",
        "# run = neptune.init(project=\"leejielong/hdbnet-regressor\", api_token=api_token)\n",
        "# # run[\"sys/name\"] = 'first-run' #describe current experiment\n",
        "# run[\"sys/tags\"].add('histgrd') #add tag to current experiment\n",
        "# neptune_callback = optuna_utils.NeptuneCallback(run)\n",
        "\n",
        "# def objective(trial):\n",
        "        \n",
        "#     param ={'loss':'least_squares',\n",
        "#             'max_depth':trial.suggest_int('max_depth', 2, 25),\n",
        "#             'min_samples_leaf':trial.suggest_int('min_samples_leaf', 2, 100),\n",
        "#             'max_leaf_nodes':trial.suggest_int('max_leaf_nodes', 2, 100),\n",
        "#             'learning_rate':trial.suggest_loguniform('learning_rate',0.005,0.5),\n",
        "#             'max_iter':trial.suggest_int('max_iter', 50, 3000),\n",
        "#             }\n",
        "#     hgrd_regr = HistGradientBoostingRegressor(**param)\n",
        "#     X_train, X_test, Y_train, Y_test = train_test_split(df_out, df_Y, test_size=0.2)\n",
        "#     hgrd_2 = hgrd_regr.fit(X_train, Y_train)\n",
        "#     y_test = np.expm1(scaler.inverse_transform(Y_test.to_numpy().reshape(-1, 1)))\n",
        "#     y_pred = np.expm1(scaler.inverse_transform(hgrd_regr.predict(X_test).reshape(-1,1)))\n",
        "#     return mean_absolute_error(y_test,y_pred)\n",
        "\n",
        "# study = optuna.create_study(direction='minimize')\n",
        "# study.optimize(objective, n_trials=100, callbacks=[neptune_callback])\n",
        "\n",
        "# import neptune.new.integrations.optuna as optuna_utils\n",
        "\n",
        "# with open(drive_path+'neptune_api_token.pickle', 'rb') as f:\n",
        "#     api_token = pickle.load(f)\n",
        "\n",
        "# run = neptune.init(project=\"leejielong/hdbnet-regressor\", api_token=api_token)\n",
        "# # run[\"sys/name\"] = 'first-run' #describe current experiment\n",
        "# run[\"sys/tags\"].add('lightgbm') #add tag to current experiment\n",
        "# neptune_callback = optuna_utils.NeptuneCallback(run)"
      ],
      "execution_count": 46,
      "outputs": []
    },
    {
      "cell_type": "markdown",
      "metadata": {
        "id": "fFjZfjxou3gT"
      },
      "source": [
        "ElasticNet Optimisation"
      ]
    },
    {
      "cell_type": "code",
      "metadata": {
        "id": "WNnBXgxhu3Fu"
      },
      "source": [
        "# kf = KFold(5,shuffle=True, random_state=42)\n",
        "\n",
        "# # Load neptune.ai api token\n",
        "# with open(drive_path+'neptune_api_token.pickle', 'rb') as f:\n",
        "#     api_token = pickle.load(f)\n",
        "\n",
        "# run = neptune.init(project=\"leejielong/hdbnet-regressor\", api_token=api_token)\n",
        "# # run[\"sys/name\"] = 'first-run' #describe current experiment\n",
        "# run[\"sys/tags\"].add('elasticnet') #add tag to current experiment\n",
        "# neptune_callback = optuna_utils.NeptuneCallback(run)\n",
        "\n",
        "# # elasticnet = make_pipeline(ElasticNetCV(max_iter=1e7,\n",
        "# #                  alphas=e_alphas,\n",
        "# #                  cv=kf,\n",
        "# #                  random_state=42,\n",
        "# #                  l1_ratio=e_l1ratio))\n",
        "\n",
        "# def objective(trial):\n",
        "\n",
        "#     param = {\n",
        "#         'max_iter': 1e7,\n",
        "#         'alphas': trial.suggest_uniform('alphas', 0.0001, 0.0007),\n",
        "#         'l1_ratio': trial.suggest_uniform('l1_ratio', 0.5, 1),\n",
        "#         'cv': kf\n",
        "#     }\n",
        "\n",
        "#     elnet_regr = ElasticNetCV(**param)\n",
        "#     X_train, X_test, Y_train, Y_test = train_test_split(df_out, df_Y, test_size=0.2)\n",
        "#     elnet_2 = elnet_regr.fit(X_train, Y_train)\n",
        "#     y_test = np.expm1(scaler.inverse_transform(Y_test.to_numpy().reshape(-1, 1)))\n",
        "#     y_pred = np.expm1(scaler.inverse_transform(elnet_regr.predict(X_test).reshape(-1,1)))\n",
        "#     return mean_absolute_error(y_test,y_pred)\n",
        "\n",
        "# study = optuna.create_study(direction='minimize')\n",
        "# study.optimize(objective, n_trials=100, callbacks=[neptune_callback])"
      ],
      "execution_count": 47,
      "outputs": []
    },
    {
      "cell_type": "markdown",
      "metadata": {
        "id": "YvEUoMwHM6tY"
      },
      "source": [
        "SVR Optimisation"
      ]
    },
    {
      "cell_type": "code",
      "metadata": {
        "id": "WupUpzQjM58t"
      },
      "source": [
        "# # Load neptune.ai api token\n",
        "# with open(drive_path+'neptune_api_token.pickle', 'rb') as f:\n",
        "#     api_token = pickle.load(f)\n",
        "\n",
        "# run = neptune.init(project=\"leejielong/hdbnet-regressor\", api_token=api_token)\n",
        "# # run[\"sys/name\"] = 'first-run' #describe current experiment\n",
        "# run[\"sys/tags\"].add('svr') #add tag to current experiment\n",
        "# neptune_callback = optuna_utils.NeptuneCallback(run)\n",
        "\n",
        "# def objective(trial):\n",
        "        \n",
        "#     param = {\n",
        "#         'C': trial.suggest_loguniform('C',  1e-5, 1e5),\n",
        "#         'epsilon': trial.suggest_loguniform('epsilon',  1e-6, 1),\n",
        "#         'gamma' : trial.suggest_loguniform('gamma',  1e-6, 1),\n",
        "#         'tol' : trial.suggest_loguniform('tol',  1e-6, 1),\n",
        "#     }\n",
        "\n",
        "#     svr_regr = SVR(**param)\n",
        "#     X_train, X_test, Y_train, Y_test = train_test_split(df_out, df_Y, test_size=0.2)\n",
        "#     svr_2 = svr_regr.fit(X_train, Y_train)\n",
        "#     y_test = np.expm1(scaler.inverse_transform(Y_test.to_numpy().reshape(-1, 1)))\n",
        "#     y_pred = np.expm1(scaler.inverse_transform(svr_regr.predict(X_test).reshape(-1,1)))\n",
        "#     return mean_absolute_error(y_test,y_pred)\n",
        "\n",
        "# study = optuna.create_study(direction='minimize')\n",
        "# study.optimize(objective, n_trials=100, callbacks=[neptune_callback])"
      ],
      "execution_count": 48,
      "outputs": []
    },
    {
      "cell_type": "markdown",
      "metadata": {
        "id": "V_4fGY0Z0o7v"
      },
      "source": [
        "#####Initialise Optimised Estimators"
      ]
    },
    {
      "cell_type": "code",
      "metadata": {
        "id": "T_-b-fzW2U7p"
      },
      "source": [
        "kf = KFold(5, shuffle=True, random_state=42)\n",
        "\n",
        "# gradientboosting:\n",
        "gbr = make_pipeline(GradientBoostingRegressor(n_estimators=2433,\n",
        "                                            learning_rate=0.01341176432305856,\n",
        "                                            max_depth=9,\n",
        "                                            max_features='sqrt',\n",
        "                                            min_samples_leaf=38,\n",
        "                                            loss='huber',\n",
        "                                            random_state=42))\n",
        "\n",
        "# lightgbm:\n",
        "lightgbm = make_pipeline(LGBMRegressor(objective='regression',\n",
        "                                        boosting_type='gbdt',\n",
        "                                        lambda_l1=5.543567600799256e-05,\n",
        "                                        lambda_l2=5.404026470078747e-06,\n",
        "                                        num_leaves=335,\n",
        "                                        learning_rate=0.01,\n",
        "                                        n_estimators=1809,\n",
        "                                        feature_fraction=0.46028426559153934,\n",
        "                                        bagging_fraction=0.9546597532480813,\n",
        "                                        bagging_freq=7,\n",
        "                                        min_child_samples= 47,\n",
        "                                        n_jobs=-1,\n",
        "                                        ))\n",
        "\n",
        "# xgboost:\n",
        "xgboost = make_pipeline(XGBRegressor(learning_rate=0.014699998026199096,\n",
        "                                     n_estimators=2433,\n",
        "                                     max_depth=9,\n",
        "                                     min_child_weight=3,\n",
        "                                     subsample=0.95,\n",
        "                                     colsample_bytree=0.56,\n",
        "                                     nthread=-1,\n",
        "                                     seed=42,\n",
        "                                     ))\n",
        "\n",
        "# hist gradient boosting regressor:\n",
        "hgrd= make_pipeline(HistGradientBoostingRegressor(loss= 'least_squares',\n",
        "                                    max_depth= 23,\n",
        "                                    min_samples_leaf= 97,\n",
        "                                    max_leaf_nodes= 67,\n",
        "                                    learning_rate= 0.0780843241028247,\n",
        "                                    max_iter= 1925,\n",
        "                                    random_state=42))\n",
        "\n",
        "\n",
        "# stacking regressor:\n",
        "stack_gen = StackingCVRegressor(regressors=(gbr, xgboost, lightgbm, hgrd),\n",
        "                                meta_regressor=xgboost,\n",
        "                                use_features_in_secondary=True)"
      ],
      "execution_count": 49,
      "outputs": []
    },
    {
      "cell_type": "code",
      "metadata": {
        "id": "51IdWOlRLT2Q"
      },
      "source": [
        "def model_check(X, y, estimators, labels, cv):\n",
        "    \n",
        "    ''' A function for testing multiple estimators.'''\n",
        "    \n",
        "    model_table = pd.DataFrame()\n",
        "\n",
        "    row_index = 0\n",
        "    for est, label in zip(estimators, labels):\n",
        "        print(f\"Fitting {label}...\")\n",
        "\n",
        "        MLA_name = label\n",
        "        model_table.loc[row_index, 'Model Name'] = MLA_name\n",
        "\n",
        "        if label == 'StackingCVRegressor':\n",
        "            X = X.values\n",
        "            y = y.values\n",
        "\n",
        "        cv_results = cross_validate(est,\n",
        "                                    X,\n",
        "                                    y,\n",
        "                                    cv=cv,\n",
        "                                    scoring='neg_median_absolute_error',\n",
        "                                    return_train_score=True,\n",
        "                                    n_jobs=-1)\n",
        "\n",
        "        model_table.loc[row_index, 'Train MAE'] = -cv_results['train_score'].mean()\n",
        "        model_table.loc[row_index, 'Test MAE'] = -cv_results['test_score'].mean()\n",
        "        model_table.loc[row_index, 'Test Std'] = cv_results['test_score'].std()\n",
        "        model_table.loc[row_index, 'Time'] = cv_results['fit_time'].mean()\n",
        "\n",
        "        row_index += 1\n",
        "\n",
        "    model_table.sort_values(by=['Test MAE'],\n",
        "                            ascending=True,\n",
        "                            inplace=True)\n",
        "\n",
        "    return model_table"
      ],
      "execution_count": 50,
      "outputs": []
    },
    {
      "cell_type": "code",
      "metadata": {
        "colab": {
          "base_uri": "https://localhost:8080/",
          "height": 392
        },
        "id": "lm3V6fxm41IK",
        "outputId": "45c0459a-6dc6-4d2f-d301-c48cb40c4751"
      },
      "source": [
        "# # Setting list of estimators and labels for them:\n",
        "# estimators = [gbr, xgboost, lightgbm, hgrd]\n",
        "# labels = ['GradientBoostingRegressor','XGBRegressor', 'LGBMRegressor', 'HistGradientBoostingRegressor']\n",
        "\n",
        "# raw_models = model_check(df_out, df_Y, estimators, labels, kf)\n",
        "# display(raw_models.style.background_gradient(cmap='summer_r'))"
      ],
      "execution_count": 51,
      "outputs": [
        {
          "output_type": "stream",
          "text": [
            "Fitting GradientBoostingRegressor...\n"
          ],
          "name": "stdout"
        },
        {
          "output_type": "error",
          "ename": "KeyboardInterrupt",
          "evalue": "ignored",
          "traceback": [
            "\u001b[0;31m---------------------------------------------------------------------------\u001b[0m",
            "\u001b[0;31mKeyboardInterrupt\u001b[0m                         Traceback (most recent call last)",
            "\u001b[0;32m<ipython-input-51-ec518d4a671e>\u001b[0m in \u001b[0;36m<module>\u001b[0;34m()\u001b[0m\n\u001b[1;32m      3\u001b[0m \u001b[0mlabels\u001b[0m \u001b[0;34m=\u001b[0m \u001b[0;34m[\u001b[0m\u001b[0;34m'GradientBoostingRegressor'\u001b[0m\u001b[0;34m,\u001b[0m\u001b[0;34m'XGBRegressor'\u001b[0m\u001b[0;34m,\u001b[0m \u001b[0;34m'LGBMRegressor'\u001b[0m\u001b[0;34m,\u001b[0m \u001b[0;34m'HistGradientBoostingRegressor'\u001b[0m\u001b[0;34m]\u001b[0m\u001b[0;34m\u001b[0m\u001b[0;34m\u001b[0m\u001b[0m\n\u001b[1;32m      4\u001b[0m \u001b[0;34m\u001b[0m\u001b[0m\n\u001b[0;32m----> 5\u001b[0;31m \u001b[0mraw_models\u001b[0m \u001b[0;34m=\u001b[0m \u001b[0mmodel_check\u001b[0m\u001b[0;34m(\u001b[0m\u001b[0mdf_out\u001b[0m\u001b[0;34m,\u001b[0m \u001b[0mdf_Y\u001b[0m\u001b[0;34m,\u001b[0m \u001b[0mestimators\u001b[0m\u001b[0;34m,\u001b[0m \u001b[0mlabels\u001b[0m\u001b[0;34m,\u001b[0m \u001b[0mkf\u001b[0m\u001b[0;34m)\u001b[0m\u001b[0;34m\u001b[0m\u001b[0;34m\u001b[0m\u001b[0m\n\u001b[0m\u001b[1;32m      6\u001b[0m \u001b[0mdisplay\u001b[0m\u001b[0;34m(\u001b[0m\u001b[0mraw_models\u001b[0m\u001b[0;34m.\u001b[0m\u001b[0mstyle\u001b[0m\u001b[0;34m.\u001b[0m\u001b[0mbackground_gradient\u001b[0m\u001b[0;34m(\u001b[0m\u001b[0mcmap\u001b[0m\u001b[0;34m=\u001b[0m\u001b[0;34m'summer_r'\u001b[0m\u001b[0;34m)\u001b[0m\u001b[0;34m)\u001b[0m\u001b[0;34m\u001b[0m\u001b[0;34m\u001b[0m\u001b[0m\n",
            "\u001b[0;32m<ipython-input-50-d268b2683cd4>\u001b[0m in \u001b[0;36mmodel_check\u001b[0;34m(X, y, estimators, labels, cv)\u001b[0m\n\u001b[1;32m     22\u001b[0m                                     \u001b[0mscoring\u001b[0m\u001b[0;34m=\u001b[0m\u001b[0;34m'neg_median_absolute_error'\u001b[0m\u001b[0;34m,\u001b[0m\u001b[0;34m\u001b[0m\u001b[0;34m\u001b[0m\u001b[0m\n\u001b[1;32m     23\u001b[0m                                     \u001b[0mreturn_train_score\u001b[0m\u001b[0;34m=\u001b[0m\u001b[0;32mTrue\u001b[0m\u001b[0;34m,\u001b[0m\u001b[0;34m\u001b[0m\u001b[0;34m\u001b[0m\u001b[0m\n\u001b[0;32m---> 24\u001b[0;31m                                     n_jobs=-1)\n\u001b[0m\u001b[1;32m     25\u001b[0m \u001b[0;34m\u001b[0m\u001b[0m\n\u001b[1;32m     26\u001b[0m         \u001b[0mmodel_table\u001b[0m\u001b[0;34m.\u001b[0m\u001b[0mloc\u001b[0m\u001b[0;34m[\u001b[0m\u001b[0mrow_index\u001b[0m\u001b[0;34m,\u001b[0m \u001b[0;34m'Train MAE'\u001b[0m\u001b[0;34m]\u001b[0m \u001b[0;34m=\u001b[0m \u001b[0;34m-\u001b[0m\u001b[0mcv_results\u001b[0m\u001b[0;34m[\u001b[0m\u001b[0;34m'train_score'\u001b[0m\u001b[0;34m]\u001b[0m\u001b[0;34m.\u001b[0m\u001b[0mmean\u001b[0m\u001b[0;34m(\u001b[0m\u001b[0;34m)\u001b[0m\u001b[0;34m\u001b[0m\u001b[0;34m\u001b[0m\u001b[0m\n",
            "\u001b[0;32m/usr/local/lib/python3.7/dist-packages/sklearn/model_selection/_validation.py\u001b[0m in \u001b[0;36mcross_validate\u001b[0;34m(estimator, X, y, groups, scoring, cv, n_jobs, verbose, fit_params, pre_dispatch, return_train_score, return_estimator, error_score)\u001b[0m\n\u001b[1;32m    234\u001b[0m             \u001b[0mreturn_times\u001b[0m\u001b[0;34m=\u001b[0m\u001b[0;32mTrue\u001b[0m\u001b[0;34m,\u001b[0m \u001b[0mreturn_estimator\u001b[0m\u001b[0;34m=\u001b[0m\u001b[0mreturn_estimator\u001b[0m\u001b[0;34m,\u001b[0m\u001b[0;34m\u001b[0m\u001b[0;34m\u001b[0m\u001b[0m\n\u001b[1;32m    235\u001b[0m             error_score=error_score)\n\u001b[0;32m--> 236\u001b[0;31m         for train, test in cv.split(X, y, groups))\n\u001b[0m\u001b[1;32m    237\u001b[0m \u001b[0;34m\u001b[0m\u001b[0m\n\u001b[1;32m    238\u001b[0m     \u001b[0mzipped_scores\u001b[0m \u001b[0;34m=\u001b[0m \u001b[0mlist\u001b[0m\u001b[0;34m(\u001b[0m\u001b[0mzip\u001b[0m\u001b[0;34m(\u001b[0m\u001b[0;34m*\u001b[0m\u001b[0mscores\u001b[0m\u001b[0;34m)\u001b[0m\u001b[0;34m)\u001b[0m\u001b[0;34m\u001b[0m\u001b[0;34m\u001b[0m\u001b[0m\n",
            "\u001b[0;32m/usr/local/lib/python3.7/dist-packages/joblib/parallel.py\u001b[0m in \u001b[0;36m__call__\u001b[0;34m(self, iterable)\u001b[0m\n\u001b[1;32m   1052\u001b[0m \u001b[0;34m\u001b[0m\u001b[0m\n\u001b[1;32m   1053\u001b[0m             \u001b[0;32mwith\u001b[0m \u001b[0mself\u001b[0m\u001b[0;34m.\u001b[0m\u001b[0m_backend\u001b[0m\u001b[0;34m.\u001b[0m\u001b[0mretrieval_context\u001b[0m\u001b[0;34m(\u001b[0m\u001b[0;34m)\u001b[0m\u001b[0;34m:\u001b[0m\u001b[0;34m\u001b[0m\u001b[0;34m\u001b[0m\u001b[0m\n\u001b[0;32m-> 1054\u001b[0;31m                 \u001b[0mself\u001b[0m\u001b[0;34m.\u001b[0m\u001b[0mretrieve\u001b[0m\u001b[0;34m(\u001b[0m\u001b[0;34m)\u001b[0m\u001b[0;34m\u001b[0m\u001b[0;34m\u001b[0m\u001b[0m\n\u001b[0m\u001b[1;32m   1055\u001b[0m             \u001b[0;31m# Make sure that we get a last message telling us we are done\u001b[0m\u001b[0;34m\u001b[0m\u001b[0;34m\u001b[0m\u001b[0;34m\u001b[0m\u001b[0m\n\u001b[1;32m   1056\u001b[0m             \u001b[0melapsed_time\u001b[0m \u001b[0;34m=\u001b[0m \u001b[0mtime\u001b[0m\u001b[0;34m.\u001b[0m\u001b[0mtime\u001b[0m\u001b[0;34m(\u001b[0m\u001b[0;34m)\u001b[0m \u001b[0;34m-\u001b[0m \u001b[0mself\u001b[0m\u001b[0;34m.\u001b[0m\u001b[0m_start_time\u001b[0m\u001b[0;34m\u001b[0m\u001b[0;34m\u001b[0m\u001b[0m\n",
            "\u001b[0;32m/usr/local/lib/python3.7/dist-packages/joblib/parallel.py\u001b[0m in \u001b[0;36mretrieve\u001b[0;34m(self)\u001b[0m\n\u001b[1;32m    931\u001b[0m             \u001b[0;32mtry\u001b[0m\u001b[0;34m:\u001b[0m\u001b[0;34m\u001b[0m\u001b[0;34m\u001b[0m\u001b[0m\n\u001b[1;32m    932\u001b[0m                 \u001b[0;32mif\u001b[0m \u001b[0mgetattr\u001b[0m\u001b[0;34m(\u001b[0m\u001b[0mself\u001b[0m\u001b[0;34m.\u001b[0m\u001b[0m_backend\u001b[0m\u001b[0;34m,\u001b[0m \u001b[0;34m'supports_timeout'\u001b[0m\u001b[0;34m,\u001b[0m \u001b[0;32mFalse\u001b[0m\u001b[0;34m)\u001b[0m\u001b[0;34m:\u001b[0m\u001b[0;34m\u001b[0m\u001b[0;34m\u001b[0m\u001b[0m\n\u001b[0;32m--> 933\u001b[0;31m                     \u001b[0mself\u001b[0m\u001b[0;34m.\u001b[0m\u001b[0m_output\u001b[0m\u001b[0;34m.\u001b[0m\u001b[0mextend\u001b[0m\u001b[0;34m(\u001b[0m\u001b[0mjob\u001b[0m\u001b[0;34m.\u001b[0m\u001b[0mget\u001b[0m\u001b[0;34m(\u001b[0m\u001b[0mtimeout\u001b[0m\u001b[0;34m=\u001b[0m\u001b[0mself\u001b[0m\u001b[0;34m.\u001b[0m\u001b[0mtimeout\u001b[0m\u001b[0;34m)\u001b[0m\u001b[0;34m)\u001b[0m\u001b[0;34m\u001b[0m\u001b[0;34m\u001b[0m\u001b[0m\n\u001b[0m\u001b[1;32m    934\u001b[0m                 \u001b[0;32melse\u001b[0m\u001b[0;34m:\u001b[0m\u001b[0;34m\u001b[0m\u001b[0;34m\u001b[0m\u001b[0m\n\u001b[1;32m    935\u001b[0m                     \u001b[0mself\u001b[0m\u001b[0;34m.\u001b[0m\u001b[0m_output\u001b[0m\u001b[0;34m.\u001b[0m\u001b[0mextend\u001b[0m\u001b[0;34m(\u001b[0m\u001b[0mjob\u001b[0m\u001b[0;34m.\u001b[0m\u001b[0mget\u001b[0m\u001b[0;34m(\u001b[0m\u001b[0;34m)\u001b[0m\u001b[0;34m)\u001b[0m\u001b[0;34m\u001b[0m\u001b[0;34m\u001b[0m\u001b[0m\n",
            "\u001b[0;32m/usr/local/lib/python3.7/dist-packages/joblib/_parallel_backends.py\u001b[0m in \u001b[0;36mwrap_future_result\u001b[0;34m(future, timeout)\u001b[0m\n\u001b[1;32m    540\u001b[0m         AsyncResults.get from multiprocessing.\"\"\"\n\u001b[1;32m    541\u001b[0m         \u001b[0;32mtry\u001b[0m\u001b[0;34m:\u001b[0m\u001b[0;34m\u001b[0m\u001b[0;34m\u001b[0m\u001b[0m\n\u001b[0;32m--> 542\u001b[0;31m             \u001b[0;32mreturn\u001b[0m \u001b[0mfuture\u001b[0m\u001b[0;34m.\u001b[0m\u001b[0mresult\u001b[0m\u001b[0;34m(\u001b[0m\u001b[0mtimeout\u001b[0m\u001b[0;34m=\u001b[0m\u001b[0mtimeout\u001b[0m\u001b[0;34m)\u001b[0m\u001b[0;34m\u001b[0m\u001b[0;34m\u001b[0m\u001b[0m\n\u001b[0m\u001b[1;32m    543\u001b[0m         \u001b[0;32mexcept\u001b[0m \u001b[0mCfTimeoutError\u001b[0m \u001b[0;32mas\u001b[0m \u001b[0me\u001b[0m\u001b[0;34m:\u001b[0m\u001b[0;34m\u001b[0m\u001b[0;34m\u001b[0m\u001b[0m\n\u001b[1;32m    544\u001b[0m             \u001b[0;32mraise\u001b[0m \u001b[0mTimeoutError\u001b[0m \u001b[0;32mfrom\u001b[0m \u001b[0me\u001b[0m\u001b[0;34m\u001b[0m\u001b[0;34m\u001b[0m\u001b[0m\n",
            "\u001b[0;32m/usr/lib/python3.7/concurrent/futures/_base.py\u001b[0m in \u001b[0;36mresult\u001b[0;34m(self, timeout)\u001b[0m\n\u001b[1;32m    428\u001b[0m                 \u001b[0;32mreturn\u001b[0m \u001b[0mself\u001b[0m\u001b[0;34m.\u001b[0m\u001b[0m__get_result\u001b[0m\u001b[0;34m(\u001b[0m\u001b[0;34m)\u001b[0m\u001b[0;34m\u001b[0m\u001b[0;34m\u001b[0m\u001b[0m\n\u001b[1;32m    429\u001b[0m \u001b[0;34m\u001b[0m\u001b[0m\n\u001b[0;32m--> 430\u001b[0;31m             \u001b[0mself\u001b[0m\u001b[0;34m.\u001b[0m\u001b[0m_condition\u001b[0m\u001b[0;34m.\u001b[0m\u001b[0mwait\u001b[0m\u001b[0;34m(\u001b[0m\u001b[0mtimeout\u001b[0m\u001b[0;34m)\u001b[0m\u001b[0;34m\u001b[0m\u001b[0;34m\u001b[0m\u001b[0m\n\u001b[0m\u001b[1;32m    431\u001b[0m \u001b[0;34m\u001b[0m\u001b[0m\n\u001b[1;32m    432\u001b[0m             \u001b[0;32mif\u001b[0m \u001b[0mself\u001b[0m\u001b[0;34m.\u001b[0m\u001b[0m_state\u001b[0m \u001b[0;32min\u001b[0m \u001b[0;34m[\u001b[0m\u001b[0mCANCELLED\u001b[0m\u001b[0;34m,\u001b[0m \u001b[0mCANCELLED_AND_NOTIFIED\u001b[0m\u001b[0;34m]\u001b[0m\u001b[0;34m:\u001b[0m\u001b[0;34m\u001b[0m\u001b[0;34m\u001b[0m\u001b[0m\n",
            "\u001b[0;32m/usr/lib/python3.7/threading.py\u001b[0m in \u001b[0;36mwait\u001b[0;34m(self, timeout)\u001b[0m\n\u001b[1;32m    294\u001b[0m         \u001b[0;32mtry\u001b[0m\u001b[0;34m:\u001b[0m    \u001b[0;31m# restore state no matter what (e.g., KeyboardInterrupt)\u001b[0m\u001b[0;34m\u001b[0m\u001b[0;34m\u001b[0m\u001b[0m\n\u001b[1;32m    295\u001b[0m             \u001b[0;32mif\u001b[0m \u001b[0mtimeout\u001b[0m \u001b[0;32mis\u001b[0m \u001b[0;32mNone\u001b[0m\u001b[0;34m:\u001b[0m\u001b[0;34m\u001b[0m\u001b[0;34m\u001b[0m\u001b[0m\n\u001b[0;32m--> 296\u001b[0;31m                 \u001b[0mwaiter\u001b[0m\u001b[0;34m.\u001b[0m\u001b[0macquire\u001b[0m\u001b[0;34m(\u001b[0m\u001b[0;34m)\u001b[0m\u001b[0;34m\u001b[0m\u001b[0;34m\u001b[0m\u001b[0m\n\u001b[0m\u001b[1;32m    297\u001b[0m                 \u001b[0mgotit\u001b[0m \u001b[0;34m=\u001b[0m \u001b[0;32mTrue\u001b[0m\u001b[0;34m\u001b[0m\u001b[0;34m\u001b[0m\u001b[0m\n\u001b[1;32m    298\u001b[0m             \u001b[0;32melse\u001b[0m\u001b[0;34m:\u001b[0m\u001b[0;34m\u001b[0m\u001b[0;34m\u001b[0m\u001b[0m\n",
            "\u001b[0;31mKeyboardInterrupt\u001b[0m: "
          ]
        }
      ]
    },
    {
      "cell_type": "markdown",
      "metadata": {
        "id": "jq1EzXO1ZcO0"
      },
      "source": [
        "Stacking & Blending"
      ]
    },
    {
      "cell_type": "code",
      "metadata": {
        "colab": {
          "base_uri": "https://localhost:8080/",
          "height": 473
        },
        "id": "zi_3DfznZbaW",
        "outputId": "2a9627d8-0ebc-497e-9108-0afafca9082c"
      },
      "source": [
        "# Fitting the models on train data.\n",
        "\n",
        "X_train, X_test, Y_train, Y_test = train_test_split(df_out, df_Y, test_size=0.2)\n",
        "\n",
        "print('=' * 20, 'START Fitting', '=' * 20)\n",
        "print('=' * 55)\n",
        "\n",
        "# print(datetime.now(), 'StackingCVRegressor')\n",
        "# stack_gen_model = stack_gen.fit(X_train.values, Y_train.values)\n",
        "with open(drive_path+'stackgen.pickle', 'rb') as f:\n",
        "    stack_gen_model = pickle.load(f)\n",
        "print(datetime.now(), 'GradientBoosting')\n",
        "gbr_model_full_data = gbr.fit(X_train, Y_train)\n",
        "print(datetime.now(), 'XGboost')\n",
        "xgb_model_full_data = xgboost.fit(X_train, Y_train)\n",
        "print(datetime.now(), 'Lightgbm')\n",
        "lgb_model_full_data = lightgbm.fit(X_train, Y_train)\n",
        "print(datetime.now(), 'Hist')\n",
        "hist_full_data = hgrd.fit(X_train, Y_train)\n",
        "print('=' * 20, 'FINISHED Fitting', '=' * 20)\n",
        "print('=' * 58)\n",
        "\n",
        "# Blending models by assigning weights:\n",
        "def blend_models_predict(X):\n",
        "    return ((0.1 * gbr_model_full_data.predict(X)) +\n",
        "            (0.2 * xgb_model_full_data.predict(X)) +\n",
        "            (0.1 * lgb_model_full_data.predict(X)) +\n",
        "            (0.1 * hist_full_data.predict(X)) +\n",
        "            (0.5 * stack_gen_model.predict(X.values)))\n",
        "\n",
        "y_test = np.expm1(scaler.inverse_transform(Y_test.to_numpy().reshape(-1, 1)))\n",
        "y_pred = np.expm1(scaler.inverse_transform(blend_models_predict(X_test).reshape(-1,1)))\n",
        "mae = int(mean_absolute_error(y_test, y_pred))\n",
        "\n",
        "# Load neptune.ai api token\n",
        "with open(drive_path+'neptune_api_token.pickle', 'rb') as f:\n",
        "    api_token = pickle.load(f)\n",
        "\n",
        "run = neptune.init(project=\"leejielong/hdbnet-regressor\", api_token=api_token)\n",
        "# run[\"sys/name\"] = 'first-run' #describe current experiment\n",
        "run[\"sys/tags\"].add('stack_blend') #add tag to current experiment\n",
        "run[\"best/value\"] = mae\n",
        "\n",
        "\n",
        "print(f'MAE: S${mae}')\n",
        "fig = plt.figure(figsize=(15,5))\n",
        "plt.title(\"Actual vs predicted housing prices\")\n",
        "plt.xlabel(\"Actual Price\")\n",
        "plt.ylabel(\"Predicted Price\")\n",
        "plt.scatter(x=y_test, y=y_pred, c='b', label=\"NN\")\n",
        "plt.legend(loc='upper left')\n",
        "plt.show()\n",
        "\n",
        "run['best/scatter_chart'].log(neptune.types.File.as_image(fig))\n"
      ],
      "execution_count": 52,
      "outputs": [
        {
          "output_type": "stream",
          "text": [
            "==================== START Fitting ====================\n",
            "=======================================================\n",
            "[02:25:58] WARNING: /workspace/src/objective/regression_obj.cu:152: reg:linear is now deprecated in favor of reg:squarederror.\n",
            "[02:26:00] WARNING: /workspace/src/objective/regression_obj.cu:152: reg:linear is now deprecated in favor of reg:squarederror.\n",
            "[02:26:02] WARNING: /workspace/src/objective/regression_obj.cu:152: reg:linear is now deprecated in favor of reg:squarederror.\n",
            "2021-06-11 02:26:02.585388 GradientBoosting\n",
            "2021-06-11 02:39:20.900713 XGboost\n",
            "[02:39:20] WARNING: /workspace/src/objective/regression_obj.cu:152: reg:linear is now deprecated in favor of reg:squarederror.\n",
            "2021-06-11 02:49:55.890821 Lightgbm\n",
            "2021-06-11 02:51:39.199270 Hist\n",
            "==================== FINISHED Fitting ====================\n",
            "==========================================================\n"
          ],
          "name": "stdout"
        },
        {
          "output_type": "error",
          "ename": "NameError",
          "evalue": "ignored",
          "traceback": [
            "\u001b[0;31m---------------------------------------------------------------------------\u001b[0m",
            "\u001b[0;31mNameError\u001b[0m                                 Traceback (most recent call last)",
            "\u001b[0;32m<ipython-input-52-753f9aa0a172>\u001b[0m in \u001b[0;36m<module>\u001b[0;34m()\u001b[0m\n\u001b[1;32m     31\u001b[0m \u001b[0my_test\u001b[0m \u001b[0;34m=\u001b[0m \u001b[0mnp\u001b[0m\u001b[0;34m.\u001b[0m\u001b[0mexpm1\u001b[0m\u001b[0;34m(\u001b[0m\u001b[0mscaler\u001b[0m\u001b[0;34m.\u001b[0m\u001b[0minverse_transform\u001b[0m\u001b[0;34m(\u001b[0m\u001b[0mY_test\u001b[0m\u001b[0;34m.\u001b[0m\u001b[0mto_numpy\u001b[0m\u001b[0;34m(\u001b[0m\u001b[0;34m)\u001b[0m\u001b[0;34m.\u001b[0m\u001b[0mreshape\u001b[0m\u001b[0;34m(\u001b[0m\u001b[0;34m-\u001b[0m\u001b[0;36m1\u001b[0m\u001b[0;34m,\u001b[0m \u001b[0;36m1\u001b[0m\u001b[0;34m)\u001b[0m\u001b[0;34m)\u001b[0m\u001b[0;34m)\u001b[0m\u001b[0;34m\u001b[0m\u001b[0;34m\u001b[0m\u001b[0m\n\u001b[1;32m     32\u001b[0m \u001b[0my_pred\u001b[0m \u001b[0;34m=\u001b[0m \u001b[0mnp\u001b[0m\u001b[0;34m.\u001b[0m\u001b[0mexpm1\u001b[0m\u001b[0;34m(\u001b[0m\u001b[0mscaler\u001b[0m\u001b[0;34m.\u001b[0m\u001b[0minverse_transform\u001b[0m\u001b[0;34m(\u001b[0m\u001b[0mblend_models_predict\u001b[0m\u001b[0;34m(\u001b[0m\u001b[0mX_test\u001b[0m\u001b[0;34m)\u001b[0m\u001b[0;34m.\u001b[0m\u001b[0mreshape\u001b[0m\u001b[0;34m(\u001b[0m\u001b[0;34m-\u001b[0m\u001b[0;36m1\u001b[0m\u001b[0;34m,\u001b[0m\u001b[0;36m1\u001b[0m\u001b[0;34m)\u001b[0m\u001b[0;34m)\u001b[0m\u001b[0;34m)\u001b[0m\u001b[0;34m\u001b[0m\u001b[0;34m\u001b[0m\u001b[0m\n\u001b[0;32m---> 33\u001b[0;31m \u001b[0mmae\u001b[0m \u001b[0;34m=\u001b[0m \u001b[0mint\u001b[0m\u001b[0;34m(\u001b[0m\u001b[0mmean_absolute_error\u001b[0m\u001b[0;34m(\u001b[0m\u001b[0mY_test\u001b[0m\u001b[0;34m,\u001b[0m \u001b[0mY_pred\u001b[0m\u001b[0;34m)\u001b[0m\u001b[0;34m)\u001b[0m\u001b[0;34m\u001b[0m\u001b[0;34m\u001b[0m\u001b[0m\n\u001b[0m\u001b[1;32m     34\u001b[0m \u001b[0;34m\u001b[0m\u001b[0m\n\u001b[1;32m     35\u001b[0m \u001b[0;31m# Load neptune.ai api token\u001b[0m\u001b[0;34m\u001b[0m\u001b[0;34m\u001b[0m\u001b[0;34m\u001b[0m\u001b[0m\n",
            "\u001b[0;31mNameError\u001b[0m: name 'Y_pred' is not defined"
          ]
        }
      ]
    },
    {
      "cell_type": "code",
      "metadata": {
        "id": "0nYZsWGWsf_n"
      },
      "source": [
        "# with open(drive_path+'stackgen.pickle', 'wb') as f:\n",
        "#     pickle.dump(stack_gen_model, f)\n",
        "with open(drive_path+'regressors.pickle', 'wb') as f:\n",
        "    regressors = {\n",
        "        'StackingCVRegressor' : stack_gen_model,\n",
        "        'GradientBoosting' : gbr_model_full_data,\n",
        "        'XGboost': xgb_model_full_data,\n",
        "        'Lightgbm': lgb_model_full_data,\n",
        "        'Hist'hist_full_data\n",
        "    }\n",
        "    pickle.dump(regressors, f)"
      ],
      "execution_count": null,
      "outputs": []
    }
  ]
}